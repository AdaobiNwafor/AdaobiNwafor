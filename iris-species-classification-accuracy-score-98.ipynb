{
 "cells": [
  {
   "cell_type": "code",
   "execution_count": 1,
   "id": "molecular-webmaster",
   "metadata": {
    "execution": {
     "iopub.execute_input": "2021-07-05T15:47:15.123041Z",
     "iopub.status.busy": "2021-07-05T15:47:15.121701Z",
     "iopub.status.idle": "2021-07-05T15:47:15.126456Z",
     "shell.execute_reply": "2021-07-05T15:47:15.127044Z",
     "shell.execute_reply.started": "2021-07-05T15:14:52.837174Z"
    },
    "executionInfo": {
     "elapsed": 666,
     "status": "ok",
     "timestamp": 1625491292286,
     "user": {
      "displayName": "A",
      "photoUrl": "https://lh3.googleusercontent.com/a-/AOh14GgMmhXeAtiXI_H68TrbvBfwZV-X3PaVgdv5-hTB7w=s64",
      "userId": "10267965304354960339"
     },
     "user_tz": -60
    },
    "id": "l8M4Z95l0G0D",
    "papermill": {
     "duration": 0.053113,
     "end_time": "2021-07-05T15:47:15.127420",
     "exception": false,
     "start_time": "2021-07-05T15:47:15.074307",
     "status": "completed"
    },
    "tags": []
   },
   "outputs": [],
   "source": [
    "## Task 2 - Iris DataSet"
   ]
  },
  {
   "cell_type": "markdown",
   "id": "rocky-intermediate",
   "metadata": {
    "papermill": {
     "duration": 0.037448,
     "end_time": "2021-07-05T15:47:15.207814",
     "exception": false,
     "start_time": "2021-07-05T15:47:15.170366",
     "status": "completed"
    },
    "tags": []
   },
   "source": [
    "### Importing the libraries needed"
   ]
  },
  {
   "cell_type": "code",
   "execution_count": 2,
   "id": "entertaining-chemistry",
   "metadata": {
    "execution": {
     "iopub.execute_input": "2021-07-05T15:47:15.304047Z",
     "iopub.status.busy": "2021-07-05T15:47:15.302945Z",
     "iopub.status.idle": "2021-07-05T15:47:16.369535Z",
     "shell.execute_reply": "2021-07-05T15:47:16.368694Z",
     "shell.execute_reply.started": "2021-07-05T15:14:52.846299Z"
    },
    "executionInfo": {
     "elapsed": 775,
     "status": "ok",
     "timestamp": 1625491330071,
     "user": {
      "displayName": "A",
      "photoUrl": "https://lh3.googleusercontent.com/a-/AOh14GgMmhXeAtiXI_H68TrbvBfwZV-X3PaVgdv5-hTB7w=s64",
      "userId": "10267965304354960339"
     },
     "user_tz": -60
    },
    "id": "CQmHgNdb1Li-",
    "papermill": {
     "duration": 1.122383,
     "end_time": "2021-07-05T15:47:16.369726",
     "exception": false,
     "start_time": "2021-07-05T15:47:15.247343",
     "status": "completed"
    },
    "tags": []
   },
   "outputs": [],
   "source": [
    "import pandas as pd\n",
    "import numpy as np\n",
    "import matplotlib.pyplot as plt\n",
    "import seaborn as sns\n",
    "%matplotlib inline\n"
   ]
  },
  {
   "cell_type": "markdown",
   "id": "integrated-opportunity",
   "metadata": {
    "papermill": {
     "duration": 0.038476,
     "end_time": "2021-07-05T15:47:16.446169",
     "exception": false,
     "start_time": "2021-07-05T15:47:16.407693",
     "status": "completed"
    },
    "tags": []
   },
   "source": [
    "### Reading the dataset into a pandas dataframe\n",
    "\n",
    "#### calling .head() to show the first 5 rows"
   ]
  },
  {
   "cell_type": "code",
   "execution_count": 3,
   "id": "rolled-present",
   "metadata": {
    "execution": {
     "iopub.execute_input": "2021-07-05T15:47:16.528523Z",
     "iopub.status.busy": "2021-07-05T15:47:16.527790Z",
     "iopub.status.idle": "2021-07-05T15:47:16.575682Z",
     "shell.execute_reply": "2021-07-05T15:47:16.575097Z",
     "shell.execute_reply.started": "2021-07-05T15:14:52.856255Z"
    },
    "executionInfo": {
     "elapsed": 187,
     "status": "ok",
     "timestamp": 1625491387591,
     "user": {
      "displayName": "A",
      "photoUrl": "https://lh3.googleusercontent.com/a-/AOh14GgMmhXeAtiXI_H68TrbvBfwZV-X3PaVgdv5-hTB7w=s64",
      "userId": "10267965304354960339"
     },
     "user_tz": -60
    },
    "id": "d-0z5Z0v1U_3",
    "outputId": "30dbee7d-778b-4615-a095-48a05a8bf205",
    "papermill": {
     "duration": 0.091169,
     "end_time": "2021-07-05T15:47:16.575859",
     "exception": false,
     "start_time": "2021-07-05T15:47:16.484690",
     "status": "completed"
    },
    "tags": []
   },
   "outputs": [
    {
     "data": {
      "text/html": [
       "<div>\n",
       "<style scoped>\n",
       "    .dataframe tbody tr th:only-of-type {\n",
       "        vertical-align: middle;\n",
       "    }\n",
       "\n",
       "    .dataframe tbody tr th {\n",
       "        vertical-align: top;\n",
       "    }\n",
       "\n",
       "    .dataframe thead th {\n",
       "        text-align: right;\n",
       "    }\n",
       "</style>\n",
       "<table border=\"1\" class=\"dataframe\">\n",
       "  <thead>\n",
       "    <tr style=\"text-align: right;\">\n",
       "      <th></th>\n",
       "      <th>Id</th>\n",
       "      <th>SepalLengthCm</th>\n",
       "      <th>SepalWidthCm</th>\n",
       "      <th>PetalLengthCm</th>\n",
       "      <th>PetalWidthCm</th>\n",
       "      <th>Species</th>\n",
       "    </tr>\n",
       "  </thead>\n",
       "  <tbody>\n",
       "    <tr>\n",
       "      <th>0</th>\n",
       "      <td>1</td>\n",
       "      <td>5.1</td>\n",
       "      <td>3.5</td>\n",
       "      <td>1.4</td>\n",
       "      <td>0.2</td>\n",
       "      <td>Iris-setosa</td>\n",
       "    </tr>\n",
       "    <tr>\n",
       "      <th>1</th>\n",
       "      <td>2</td>\n",
       "      <td>4.9</td>\n",
       "      <td>3.0</td>\n",
       "      <td>1.4</td>\n",
       "      <td>0.2</td>\n",
       "      <td>Iris-setosa</td>\n",
       "    </tr>\n",
       "    <tr>\n",
       "      <th>2</th>\n",
       "      <td>3</td>\n",
       "      <td>4.7</td>\n",
       "      <td>3.2</td>\n",
       "      <td>1.3</td>\n",
       "      <td>0.2</td>\n",
       "      <td>Iris-setosa</td>\n",
       "    </tr>\n",
       "    <tr>\n",
       "      <th>3</th>\n",
       "      <td>4</td>\n",
       "      <td>4.6</td>\n",
       "      <td>3.1</td>\n",
       "      <td>1.5</td>\n",
       "      <td>0.2</td>\n",
       "      <td>Iris-setosa</td>\n",
       "    </tr>\n",
       "    <tr>\n",
       "      <th>4</th>\n",
       "      <td>5</td>\n",
       "      <td>5.0</td>\n",
       "      <td>3.6</td>\n",
       "      <td>1.4</td>\n",
       "      <td>0.2</td>\n",
       "      <td>Iris-setosa</td>\n",
       "    </tr>\n",
       "  </tbody>\n",
       "</table>\n",
       "</div>"
      ],
      "text/plain": [
       "   Id  SepalLengthCm  SepalWidthCm  PetalLengthCm  PetalWidthCm      Species\n",
       "0   1            5.1           3.5            1.4           0.2  Iris-setosa\n",
       "1   2            4.9           3.0            1.4           0.2  Iris-setosa\n",
       "2   3            4.7           3.2            1.3           0.2  Iris-setosa\n",
       "3   4            4.6           3.1            1.5           0.2  Iris-setosa\n",
       "4   5            5.0           3.6            1.4           0.2  Iris-setosa"
      ]
     },
     "execution_count": 3,
     "metadata": {},
     "output_type": "execute_result"
    }
   ],
   "source": [
    "iris = pd.read_csv('../input/iris/Iris.csv')\n",
    "df = pd.DataFrame(iris)\n",
    "df.head()"
   ]
  },
  {
   "cell_type": "markdown",
   "id": "necessary-damage",
   "metadata": {
    "papermill": {
     "duration": 0.03816,
     "end_time": "2021-07-05T15:47:16.652360",
     "exception": false,
     "start_time": "2021-07-05T15:47:16.614200",
     "status": "completed"
    },
    "tags": []
   },
   "source": [
    "#### .describe() shows you statistical information about the dataset"
   ]
  },
  {
   "cell_type": "code",
   "execution_count": 4,
   "id": "electric-motor",
   "metadata": {
    "execution": {
     "iopub.execute_input": "2021-07-05T15:47:16.738356Z",
     "iopub.status.busy": "2021-07-05T15:47:16.733875Z",
     "iopub.status.idle": "2021-07-05T15:47:16.761364Z",
     "shell.execute_reply": "2021-07-05T15:47:16.760764Z",
     "shell.execute_reply.started": "2021-07-05T15:14:52.881454Z"
    },
    "executionInfo": {
     "elapsed": 185,
     "status": "ok",
     "timestamp": 1625491396170,
     "user": {
      "displayName": "A",
      "photoUrl": "https://lh3.googleusercontent.com/a-/AOh14GgMmhXeAtiXI_H68TrbvBfwZV-X3PaVgdv5-hTB7w=s64",
      "userId": "10267965304354960339"
     },
     "user_tz": -60
    },
    "id": "7majb-QW1jJ5",
    "outputId": "3d64eed1-467d-4003-fb1c-47738533dff9",
    "papermill": {
     "duration": 0.070622,
     "end_time": "2021-07-05T15:47:16.761545",
     "exception": false,
     "start_time": "2021-07-05T15:47:16.690923",
     "status": "completed"
    },
    "tags": []
   },
   "outputs": [
    {
     "data": {
      "text/html": [
       "<div>\n",
       "<style scoped>\n",
       "    .dataframe tbody tr th:only-of-type {\n",
       "        vertical-align: middle;\n",
       "    }\n",
       "\n",
       "    .dataframe tbody tr th {\n",
       "        vertical-align: top;\n",
       "    }\n",
       "\n",
       "    .dataframe thead th {\n",
       "        text-align: right;\n",
       "    }\n",
       "</style>\n",
       "<table border=\"1\" class=\"dataframe\">\n",
       "  <thead>\n",
       "    <tr style=\"text-align: right;\">\n",
       "      <th></th>\n",
       "      <th>Id</th>\n",
       "      <th>SepalLengthCm</th>\n",
       "      <th>SepalWidthCm</th>\n",
       "      <th>PetalLengthCm</th>\n",
       "      <th>PetalWidthCm</th>\n",
       "    </tr>\n",
       "  </thead>\n",
       "  <tbody>\n",
       "    <tr>\n",
       "      <th>count</th>\n",
       "      <td>150.000000</td>\n",
       "      <td>150.000000</td>\n",
       "      <td>150.000000</td>\n",
       "      <td>150.000000</td>\n",
       "      <td>150.000000</td>\n",
       "    </tr>\n",
       "    <tr>\n",
       "      <th>mean</th>\n",
       "      <td>75.500000</td>\n",
       "      <td>5.843333</td>\n",
       "      <td>3.054000</td>\n",
       "      <td>3.758667</td>\n",
       "      <td>1.198667</td>\n",
       "    </tr>\n",
       "    <tr>\n",
       "      <th>std</th>\n",
       "      <td>43.445368</td>\n",
       "      <td>0.828066</td>\n",
       "      <td>0.433594</td>\n",
       "      <td>1.764420</td>\n",
       "      <td>0.763161</td>\n",
       "    </tr>\n",
       "    <tr>\n",
       "      <th>min</th>\n",
       "      <td>1.000000</td>\n",
       "      <td>4.300000</td>\n",
       "      <td>2.000000</td>\n",
       "      <td>1.000000</td>\n",
       "      <td>0.100000</td>\n",
       "    </tr>\n",
       "    <tr>\n",
       "      <th>25%</th>\n",
       "      <td>38.250000</td>\n",
       "      <td>5.100000</td>\n",
       "      <td>2.800000</td>\n",
       "      <td>1.600000</td>\n",
       "      <td>0.300000</td>\n",
       "    </tr>\n",
       "    <tr>\n",
       "      <th>50%</th>\n",
       "      <td>75.500000</td>\n",
       "      <td>5.800000</td>\n",
       "      <td>3.000000</td>\n",
       "      <td>4.350000</td>\n",
       "      <td>1.300000</td>\n",
       "    </tr>\n",
       "    <tr>\n",
       "      <th>75%</th>\n",
       "      <td>112.750000</td>\n",
       "      <td>6.400000</td>\n",
       "      <td>3.300000</td>\n",
       "      <td>5.100000</td>\n",
       "      <td>1.800000</td>\n",
       "    </tr>\n",
       "    <tr>\n",
       "      <th>max</th>\n",
       "      <td>150.000000</td>\n",
       "      <td>7.900000</td>\n",
       "      <td>4.400000</td>\n",
       "      <td>6.900000</td>\n",
       "      <td>2.500000</td>\n",
       "    </tr>\n",
       "  </tbody>\n",
       "</table>\n",
       "</div>"
      ],
      "text/plain": [
       "               Id  SepalLengthCm  SepalWidthCm  PetalLengthCm  PetalWidthCm\n",
       "count  150.000000     150.000000    150.000000     150.000000    150.000000\n",
       "mean    75.500000       5.843333      3.054000       3.758667      1.198667\n",
       "std     43.445368       0.828066      0.433594       1.764420      0.763161\n",
       "min      1.000000       4.300000      2.000000       1.000000      0.100000\n",
       "25%     38.250000       5.100000      2.800000       1.600000      0.300000\n",
       "50%     75.500000       5.800000      3.000000       4.350000      1.300000\n",
       "75%    112.750000       6.400000      3.300000       5.100000      1.800000\n",
       "max    150.000000       7.900000      4.400000       6.900000      2.500000"
      ]
     },
     "execution_count": 4,
     "metadata": {},
     "output_type": "execute_result"
    }
   ],
   "source": [
    "df.describe()"
   ]
  },
  {
   "cell_type": "markdown",
   "id": "regulated-conflict",
   "metadata": {
    "papermill": {
     "duration": 0.038602,
     "end_time": "2021-07-05T15:47:16.838628",
     "exception": false,
     "start_time": "2021-07-05T15:47:16.800026",
     "status": "completed"
    },
    "tags": []
   },
   "source": [
    "#### using .isnull() shows you a boolean list all the values in the dataset that are null ('True' or 'False')\n",
    "\n",
    "#### Adding .sum() shows you a sum instead. \n",
    "\n",
    "#### The dataset has no missing values"
   ]
  },
  {
   "cell_type": "code",
   "execution_count": 5,
   "id": "described-particle",
   "metadata": {
    "execution": {
     "iopub.execute_input": "2021-07-05T15:47:16.949376Z",
     "iopub.status.busy": "2021-07-05T15:47:16.943425Z",
     "iopub.status.idle": "2021-07-05T15:47:16.955931Z",
     "shell.execute_reply": "2021-07-05T15:47:16.955235Z",
     "shell.execute_reply.started": "2021-07-05T15:14:52.908708Z"
    },
    "executionInfo": {
     "elapsed": 184,
     "status": "ok",
     "timestamp": 1625491413223,
     "user": {
      "displayName": "A",
      "photoUrl": "https://lh3.googleusercontent.com/a-/AOh14GgMmhXeAtiXI_H68TrbvBfwZV-X3PaVgdv5-hTB7w=s64",
      "userId": "10267965304354960339"
     },
     "user_tz": -60
    },
    "id": "_e5fGpQa1lLm",
    "outputId": "a80f77d2-5f96-4e48-940c-8c249aa571b3",
    "papermill": {
     "duration": 0.071003,
     "end_time": "2021-07-05T15:47:16.956106",
     "exception": false,
     "start_time": "2021-07-05T15:47:16.885103",
     "status": "completed"
    },
    "tags": []
   },
   "outputs": [
    {
     "data": {
      "text/plain": [
       "Id               0\n",
       "SepalLengthCm    0\n",
       "SepalWidthCm     0\n",
       "PetalLengthCm    0\n",
       "PetalWidthCm     0\n",
       "Species          0\n",
       "dtype: int64"
      ]
     },
     "execution_count": 5,
     "metadata": {},
     "output_type": "execute_result"
    }
   ],
   "source": [
    "df.isnull().sum()"
   ]
  },
  {
   "cell_type": "markdown",
   "id": "collected-entertainment",
   "metadata": {
    "papermill": {
     "duration": 0.05296,
     "end_time": "2021-07-05T15:47:17.069027",
     "exception": false,
     "start_time": "2021-07-05T15:47:17.016067",
     "status": "completed"
    },
    "tags": []
   },
   "source": [
    "#### .value_counts() shows the different information within the dataset"
   ]
  },
  {
   "cell_type": "code",
   "execution_count": 6,
   "id": "parliamentary-bouquet",
   "metadata": {
    "execution": {
     "iopub.execute_input": "2021-07-05T15:47:17.181015Z",
     "iopub.status.busy": "2021-07-05T15:47:17.180129Z",
     "iopub.status.idle": "2021-07-05T15:47:17.203731Z",
     "shell.execute_reply": "2021-07-05T15:47:17.204401Z",
     "shell.execute_reply.started": "2021-07-05T15:14:52.919347Z"
    },
    "executionInfo": {
     "elapsed": 176,
     "status": "ok",
     "timestamp": 1625491498017,
     "user": {
      "displayName": "A",
      "photoUrl": "https://lh3.googleusercontent.com/a-/AOh14GgMmhXeAtiXI_H68TrbvBfwZV-X3PaVgdv5-hTB7w=s64",
      "userId": "10267965304354960339"
     },
     "user_tz": -60
    },
    "id": "HEZBF32N1pbJ",
    "outputId": "30f73b8b-b9cd-4555-98ee-763a6f568b22",
    "papermill": {
     "duration": 0.095574,
     "end_time": "2021-07-05T15:47:17.204659",
     "exception": false,
     "start_time": "2021-07-05T15:47:17.109085",
     "status": "completed"
    },
    "tags": []
   },
   "outputs": [
    {
     "data": {
      "text/plain": [
       "Id   SepalLengthCm  SepalWidthCm  PetalLengthCm  PetalWidthCm  Species        \n",
       "1    5.1            3.5           1.4            0.2           Iris-setosa        1\n",
       "95   5.6            2.7           4.2            1.3           Iris-versicolor    1\n",
       "97   5.7            2.9           4.2            1.3           Iris-versicolor    1\n",
       "98   6.2            2.9           4.3            1.3           Iris-versicolor    1\n",
       "99   5.1            2.5           3.0            1.1           Iris-versicolor    1\n",
       "                                                                                 ..\n",
       "51   7.0            3.2           4.7            1.4           Iris-versicolor    1\n",
       "52   6.4            3.2           4.5            1.5           Iris-versicolor    1\n",
       "53   6.9            3.1           4.9            1.5           Iris-versicolor    1\n",
       "54   5.5            2.3           4.0            1.3           Iris-versicolor    1\n",
       "150  5.9            3.0           5.1            1.8           Iris-virginica     1\n",
       "Length: 150, dtype: int64"
      ]
     },
     "execution_count": 6,
     "metadata": {},
     "output_type": "execute_result"
    }
   ],
   "source": [
    "df.value_counts()"
   ]
  },
  {
   "cell_type": "markdown",
   "id": "tired-double",
   "metadata": {
    "papermill": {
     "duration": 0.039897,
     "end_time": "2021-07-05T15:47:17.295590",
     "exception": false,
     "start_time": "2021-07-05T15:47:17.255693",
     "status": "completed"
    },
    "tags": []
   },
   "source": [
    "#### .info() shows the number of non null data (non-missing data) which is none, and the type of data held in the columns"
   ]
  },
  {
   "cell_type": "code",
   "execution_count": 7,
   "id": "combined-ceremony",
   "metadata": {
    "execution": {
     "iopub.execute_input": "2021-07-05T15:47:17.396943Z",
     "iopub.status.busy": "2021-07-05T15:47:17.396085Z",
     "iopub.status.idle": "2021-07-05T15:47:17.400707Z",
     "shell.execute_reply": "2021-07-05T15:47:17.401417Z",
     "shell.execute_reply.started": "2021-07-05T15:14:52.951818Z"
    },
    "executionInfo": {
     "elapsed": 196,
     "status": "ok",
     "timestamp": 1625491608530,
     "user": {
      "displayName": "A",
      "photoUrl": "https://lh3.googleusercontent.com/a-/AOh14GgMmhXeAtiXI_H68TrbvBfwZV-X3PaVgdv5-hTB7w=s64",
      "userId": "10267965304354960339"
     },
     "user_tz": -60
    },
    "id": "bHxyFL791u6i",
    "outputId": "0d1c8308-bb0a-4b26-ae46-b87afac0eb28",
    "papermill": {
     "duration": 0.066458,
     "end_time": "2021-07-05T15:47:17.401690",
     "exception": false,
     "start_time": "2021-07-05T15:47:17.335232",
     "status": "completed"
    },
    "tags": []
   },
   "outputs": [
    {
     "name": "stdout",
     "output_type": "stream",
     "text": [
      "<class 'pandas.core.frame.DataFrame'>\n",
      "RangeIndex: 150 entries, 0 to 149\n",
      "Data columns (total 6 columns):\n",
      " #   Column         Non-Null Count  Dtype  \n",
      "---  ------         --------------  -----  \n",
      " 0   Id             150 non-null    int64  \n",
      " 1   SepalLengthCm  150 non-null    float64\n",
      " 2   SepalWidthCm   150 non-null    float64\n",
      " 3   PetalLengthCm  150 non-null    float64\n",
      " 4   PetalWidthCm   150 non-null    float64\n",
      " 5   Species        150 non-null    object \n",
      "dtypes: float64(4), int64(1), object(1)\n",
      "memory usage: 7.2+ KB\n"
     ]
    }
   ],
   "source": [
    "df.info()"
   ]
  },
  {
   "cell_type": "markdown",
   "id": "affected-rally",
   "metadata": {
    "papermill": {
     "duration": 0.040847,
     "end_time": "2021-07-05T15:47:17.483211",
     "exception": false,
     "start_time": "2021-07-05T15:47:17.442364",
     "status": "completed"
    },
    "tags": []
   },
   "source": [
    "#### Using .drop() we can drop columns or rows in a dataset.\n",
    "\n",
    "#### x=1 shows that we want it to be a column. If we wanted to drop a row, it would be x=0\n",
    "\n",
    "#### inplace=True means we want the change to be permanent within the dataset"
   ]
  },
  {
   "cell_type": "code",
   "execution_count": 8,
   "id": "functional-logging",
   "metadata": {
    "execution": {
     "iopub.execute_input": "2021-07-05T15:47:17.576572Z",
     "iopub.status.busy": "2021-07-05T15:47:17.575463Z",
     "iopub.status.idle": "2021-07-05T15:47:17.578696Z",
     "shell.execute_reply": "2021-07-05T15:47:17.577746Z",
     "shell.execute_reply.started": "2021-07-05T15:14:52.967341Z"
    },
    "executionInfo": {
     "elapsed": 179,
     "status": "ok",
     "timestamp": 1625491660108,
     "user": {
      "displayName": "A",
      "photoUrl": "https://lh3.googleusercontent.com/a-/AOh14GgMmhXeAtiXI_H68TrbvBfwZV-X3PaVgdv5-hTB7w=s64",
      "userId": "10267965304354960339"
     },
     "user_tz": -60
    },
    "id": "ji9-oWJ02ZG3",
    "papermill": {
     "duration": 0.053029,
     "end_time": "2021-07-05T15:47:17.578929",
     "exception": false,
     "start_time": "2021-07-05T15:47:17.525900",
     "status": "completed"
    },
    "tags": []
   },
   "outputs": [],
   "source": [
    "df.drop('Id', axis=1, inplace=True)"
   ]
  },
  {
   "cell_type": "code",
   "execution_count": 9,
   "id": "instant-group",
   "metadata": {
    "execution": {
     "iopub.execute_input": "2021-07-05T15:47:17.674145Z",
     "iopub.status.busy": "2021-07-05T15:47:17.672613Z",
     "iopub.status.idle": "2021-07-05T15:47:17.684244Z",
     "shell.execute_reply": "2021-07-05T15:47:17.684819Z",
     "shell.execute_reply.started": "2021-07-05T15:14:52.980909Z"
    },
    "executionInfo": {
     "elapsed": 183,
     "status": "ok",
     "timestamp": 1625491667315,
     "user": {
      "displayName": "A",
      "photoUrl": "https://lh3.googleusercontent.com/a-/AOh14GgMmhXeAtiXI_H68TrbvBfwZV-X3PaVgdv5-hTB7w=s64",
      "userId": "10267965304354960339"
     },
     "user_tz": -60
    },
    "id": "Xwph0L942ltj",
    "outputId": "bb430775-3c34-4b6f-975b-2b38dbbd7763",
    "papermill": {
     "duration": 0.062804,
     "end_time": "2021-07-05T15:47:17.685033",
     "exception": false,
     "start_time": "2021-07-05T15:47:17.622229",
     "status": "completed"
    },
    "tags": []
   },
   "outputs": [
    {
     "data": {
      "text/html": [
       "<div>\n",
       "<style scoped>\n",
       "    .dataframe tbody tr th:only-of-type {\n",
       "        vertical-align: middle;\n",
       "    }\n",
       "\n",
       "    .dataframe tbody tr th {\n",
       "        vertical-align: top;\n",
       "    }\n",
       "\n",
       "    .dataframe thead th {\n",
       "        text-align: right;\n",
       "    }\n",
       "</style>\n",
       "<table border=\"1\" class=\"dataframe\">\n",
       "  <thead>\n",
       "    <tr style=\"text-align: right;\">\n",
       "      <th></th>\n",
       "      <th>SepalLengthCm</th>\n",
       "      <th>SepalWidthCm</th>\n",
       "      <th>PetalLengthCm</th>\n",
       "      <th>PetalWidthCm</th>\n",
       "      <th>Species</th>\n",
       "    </tr>\n",
       "  </thead>\n",
       "  <tbody>\n",
       "    <tr>\n",
       "      <th>0</th>\n",
       "      <td>5.1</td>\n",
       "      <td>3.5</td>\n",
       "      <td>1.4</td>\n",
       "      <td>0.2</td>\n",
       "      <td>Iris-setosa</td>\n",
       "    </tr>\n",
       "    <tr>\n",
       "      <th>1</th>\n",
       "      <td>4.9</td>\n",
       "      <td>3.0</td>\n",
       "      <td>1.4</td>\n",
       "      <td>0.2</td>\n",
       "      <td>Iris-setosa</td>\n",
       "    </tr>\n",
       "    <tr>\n",
       "      <th>2</th>\n",
       "      <td>4.7</td>\n",
       "      <td>3.2</td>\n",
       "      <td>1.3</td>\n",
       "      <td>0.2</td>\n",
       "      <td>Iris-setosa</td>\n",
       "    </tr>\n",
       "    <tr>\n",
       "      <th>3</th>\n",
       "      <td>4.6</td>\n",
       "      <td>3.1</td>\n",
       "      <td>1.5</td>\n",
       "      <td>0.2</td>\n",
       "      <td>Iris-setosa</td>\n",
       "    </tr>\n",
       "    <tr>\n",
       "      <th>4</th>\n",
       "      <td>5.0</td>\n",
       "      <td>3.6</td>\n",
       "      <td>1.4</td>\n",
       "      <td>0.2</td>\n",
       "      <td>Iris-setosa</td>\n",
       "    </tr>\n",
       "  </tbody>\n",
       "</table>\n",
       "</div>"
      ],
      "text/plain": [
       "   SepalLengthCm  SepalWidthCm  PetalLengthCm  PetalWidthCm      Species\n",
       "0            5.1           3.5            1.4           0.2  Iris-setosa\n",
       "1            4.9           3.0            1.4           0.2  Iris-setosa\n",
       "2            4.7           3.2            1.3           0.2  Iris-setosa\n",
       "3            4.6           3.1            1.5           0.2  Iris-setosa\n",
       "4            5.0           3.6            1.4           0.2  Iris-setosa"
      ]
     },
     "execution_count": 9,
     "metadata": {},
     "output_type": "execute_result"
    }
   ],
   "source": [
    "df.head()"
   ]
  },
  {
   "cell_type": "markdown",
   "id": "packed-opinion",
   "metadata": {
    "papermill": {
     "duration": 0.041398,
     "end_time": "2021-07-05T15:47:17.769186",
     "exception": false,
     "start_time": "2021-07-05T15:47:17.727788",
     "status": "completed"
    },
    "tags": []
   },
   "source": [
    "### Sepal Length vs Sepal Width - Using a scatterplot"
   ]
  },
  {
   "cell_type": "markdown",
   "id": "expressed-coffee",
   "metadata": {
    "papermill": {
     "duration": 0.042797,
     "end_time": "2021-07-05T15:47:17.853096",
     "exception": false,
     "start_time": "2021-07-05T15:47:17.810299",
     "status": "completed"
    },
    "tags": []
   },
   "source": [
    "#### Making a plot that shows all the data on one axis. This shows the data for the 3 different types of species in one picture.\n",
    "\n",
    "#### It is important to note the 'ax = fig' for the virginica and versicolor species. This is what allows all the data to be on the same axis and figure"
   ]
  },
  {
   "cell_type": "code",
   "execution_count": 10,
   "id": "massive-andrew",
   "metadata": {
    "execution": {
     "iopub.execute_input": "2021-07-05T15:47:17.940421Z",
     "iopub.status.busy": "2021-07-05T15:47:17.939512Z",
     "iopub.status.idle": "2021-07-05T15:47:18.319268Z",
     "shell.execute_reply": "2021-07-05T15:47:18.318658Z",
     "shell.execute_reply.started": "2021-07-05T15:14:53.005547Z"
    },
    "executionInfo": {
     "elapsed": 513,
     "status": "ok",
     "timestamp": 1625492582465,
     "user": {
      "displayName": "A",
      "photoUrl": "https://lh3.googleusercontent.com/a-/AOh14GgMmhXeAtiXI_H68TrbvBfwZV-X3PaVgdv5-hTB7w=s64",
      "userId": "10267965304354960339"
     },
     "user_tz": -60
    },
    "id": "DRXPKf_42ncb",
    "outputId": "66d64428-4ed7-4f07-eaea-265a873c5ceb",
    "papermill": {
     "duration": 0.425091,
     "end_time": "2021-07-05T15:47:18.319453",
     "exception": false,
     "start_time": "2021-07-05T15:47:17.894362",
     "status": "completed"
    },
    "tags": []
   },
   "outputs": [
    {
     "data": {
      "image/png": "[encoded data removed]",
      "text/plain": [
       "<Figure size 648x432 with 1 Axes>"
      ]
     },
     "metadata": {
      "needs_background": "light"
     },
     "output_type": "display_data"
    }
   ],
   "source": [
    "fig = df[df.Species == 'Iris-setosa'].plot(kind='scatter', x='SepalLengthCm', y='SepalWidthCm', color='orange', label='Setosa')\n",
    "df[df.Species == 'Iris-virginica'].plot(kind='scatter', x='SepalLengthCm', y='SepalWidthCm', color='blue', label='Virginica', ax = fig)\n",
    "df[df.Species == 'Iris-versicolor'].plot(kind='scatter', x='SepalLengthCm', y='SepalWidthCm', color='green', label='Versicolor', ax = fig)\n",
    "\n",
    "fig.set_xlabel('Sepal Length')\n",
    "fig.set_ylabel('Sepal Width')\n",
    "fig.set_title('Sepal Length vs Sepal Width')\n",
    "fig = plt.gcf()\n",
    "fig.set_size_inches(9,6)\n",
    "plt.show()"
   ]
  },
  {
   "cell_type": "markdown",
   "id": "former-death",
   "metadata": {
    "papermill": {
     "duration": 0.04142,
     "end_time": "2021-07-05T15:47:18.402750",
     "exception": false,
     "start_time": "2021-07-05T15:47:18.361330",
     "status": "completed"
    },
    "tags": []
   },
   "source": [
    "### Petal Length vs Petal Width - Using a scatter plot"
   ]
  },
  {
   "cell_type": "code",
   "execution_count": 11,
   "id": "republican-transition",
   "metadata": {
    "execution": {
     "iopub.execute_input": "2021-07-05T15:47:18.590881Z",
     "iopub.status.busy": "2021-07-05T15:47:18.589789Z",
     "iopub.status.idle": "2021-07-05T15:47:18.782689Z",
     "shell.execute_reply": "2021-07-05T15:47:18.783177Z",
     "shell.execute_reply.started": "2021-07-05T15:14:53.310860Z"
    },
    "executionInfo": {
     "elapsed": 658,
     "status": "ok",
     "timestamp": 1625492588361,
     "user": {
      "displayName": "A",
      "photoUrl": "https://lh3.googleusercontent.com/a-/AOh14GgMmhXeAtiXI_H68TrbvBfwZV-X3PaVgdv5-hTB7w=s64",
      "userId": "10267965304354960339"
     },
     "user_tz": -60
    },
    "id": "DYYNeNAl4CKq",
    "outputId": "bf104461-8012-4d2a-dc45-0e193c28f724",
    "papermill": {
     "duration": 0.339384,
     "end_time": "2021-07-05T15:47:18.783396",
     "exception": false,
     "start_time": "2021-07-05T15:47:18.444012",
     "status": "completed"
    },
    "tags": []
   },
   "outputs": [
    {
     "data": {
      "image/png": "[encoded data removed]",
      "text/plain": [
       "<Figure size 648x432 with 1 Axes>"
      ]
     },
     "metadata": {
      "needs_background": "light"
     },
     "output_type": "display_data"
    }
   ],
   "source": [
    "fig = df[df.Species == 'Iris-setosa'].plot(kind='scatter', x='PetalLengthCm', y='PetalWidthCm', color='orange', label='Setosa')\n",
    "df[df.Species == 'Iris-virginica'].plot(kind='scatter', x='PetalLengthCm', y='PetalWidthCm', color='blue', label='Virginica', ax=fig)\n",
    "df[df.Species == 'Iris-versicolor'].plot(kind='scatter', x='PetalLengthCm', y='PetalWidthCm', color='green', label='Versicolor', ax=fig)\n",
    "\n",
    "fig.set_xlabel('Petal Length')\n",
    "fig.set_ylabel('Petal Width')\n",
    "fig.set_title('Petal Length Vs Petal Width')\n",
    "fig = plt.gcf()\n",
    "fig.set_size_inches(9,6)\n",
    "plt.show()"
   ]
  },
  {
   "cell_type": "markdown",
   "id": "brown-scanner",
   "metadata": {
    "papermill": {
     "duration": 0.042767,
     "end_time": "2021-07-05T15:47:18.871387",
     "exception": false,
     "start_time": "2021-07-05T15:47:18.828620",
     "status": "completed"
    },
    "tags": []
   },
   "source": [
    "### Using a histogram to show the varying amount of Sepal and Petal Length and Width depending on size"
   ]
  },
  {
   "cell_type": "code",
   "execution_count": 12,
   "id": "hundred-static",
   "metadata": {
    "execution": {
     "iopub.execute_input": "2021-07-05T15:47:18.985876Z",
     "iopub.status.busy": "2021-07-05T15:47:18.983942Z",
     "iopub.status.idle": "2021-07-05T15:47:19.530620Z",
     "shell.execute_reply": "2021-07-05T15:47:19.529776Z",
     "shell.execute_reply.started": "2021-07-05T15:14:53.533040Z"
    },
    "executionInfo": {
     "elapsed": 801,
     "status": "ok",
     "timestamp": 1625492743865,
     "user": {
      "displayName": "A",
      "photoUrl": "https://lh3.googleusercontent.com/a-/AOh14GgMmhXeAtiXI_H68TrbvBfwZV-X3PaVgdv5-hTB7w=s64",
      "userId": "10267965304354960339"
     },
     "user_tz": -60
    },
    "id": "AJHWjT9h5YIu",
    "outputId": "5f8accd1-5495-4245-ebaf-9c45af6131b0",
    "papermill": {
     "duration": 0.616986,
     "end_time": "2021-07-05T15:47:19.530791",
     "exception": false,
     "start_time": "2021-07-05T15:47:18.913805",
     "status": "completed"
    },
    "tags": []
   },
   "outputs": [
    {
     "name": "stderr",
     "output_type": "stream",
     "text": [
      "/opt/conda/lib/python3.7/site-packages/pandas/plotting/_matplotlib/tools.py:400: MatplotlibDeprecationWarning: \n",
      "The is_first_col function was deprecated in Matplotlib 3.4 and will be removed two minor releases later. Use ax.get_subplotspec().is_first_col() instead.\n",
      "  if ax.is_first_col():\n"
     ]
    },
    {
     "data": {
      "image/png": "[encoded data removed]",
      "text/plain": [
       "<Figure size 648x432 with 4 Axes>"
      ]
     },
     "metadata": {
      "needs_background": "light"
     },
     "output_type": "display_data"
    }
   ],
   "source": [
    "df.hist(edgecolor='black', linewidth=1.2)\n",
    "fig = plt.gcf()\n",
    "fig.set_size_inches(9,6)"
   ]
  },
  {
   "cell_type": "code",
   "execution_count": 13,
   "id": "latin-constitution",
   "metadata": {
    "execution": {
     "iopub.execute_input": "2021-07-05T15:47:19.642138Z",
     "iopub.status.busy": "2021-07-05T15:47:19.639666Z",
     "iopub.status.idle": "2021-07-05T15:47:20.277140Z",
     "shell.execute_reply": "2021-07-05T15:47:20.277723Z",
     "shell.execute_reply.started": "2021-07-05T15:14:53.967358Z"
    },
    "executionInfo": {
     "elapsed": 874,
     "status": "ok",
     "timestamp": 1625493016276,
     "user": {
      "displayName": "A",
      "photoUrl": "https://lh3.googleusercontent.com/a-/AOh14GgMmhXeAtiXI_H68TrbvBfwZV-X3PaVgdv5-hTB7w=s64",
      "userId": "10267965304354960339"
     },
     "user_tz": -60
    },
    "id": "Z65Rcw6x6mNd",
    "outputId": "e2037e2c-7df5-4a27-b88d-bff59eef20aa",
    "papermill": {
     "duration": 0.703229,
     "end_time": "2021-07-05T15:47:20.277955",
     "exception": false,
     "start_time": "2021-07-05T15:47:19.574726",
     "status": "completed"
    },
    "tags": []
   },
   "outputs": [
    {
     "data": {
      "text/plain": [
       "<AxesSubplot:xlabel='Species', ylabel='PetalWidthCm'>"
      ]
     },
     "execution_count": 13,
     "metadata": {},
     "output_type": "execute_result"
    },
    {
     "data": {
      "image/png": "[encoded data removed]",
      "text/plain": [
       "<Figure size 648x432 with 4 Axes>"
      ]
     },
     "metadata": {
      "needs_background": "light"
     },
     "output_type": "display_data"
    }
   ],
   "source": [
    "plt.figure(figsize=(9,6))\n",
    "plt.subplot(2,2,1)\n",
    "sns.violinplot(x='Species', y='SepalLengthCm', data=df)\n",
    "plt.subplot(2,2,2)\n",
    "sns.violinplot(x='Species', y='SepalWidthCm', data=df)\n",
    "plt.subplot(2,2,3)\n",
    "sns.violinplot(x='Species', y='PetalLengthCm', data=df)\n",
    "plt.subplot(2,2,4)\n",
    "sns.violinplot(x='Species', y='PetalWidthCm', data=df)"
   ]
  },
  {
   "cell_type": "markdown",
   "id": "blond-budapest",
   "metadata": {
    "papermill": {
     "duration": 0.045729,
     "end_time": "2021-07-05T15:47:20.370487",
     "exception": false,
     "start_time": "2021-07-05T15:47:20.324758",
     "status": "completed"
    },
    "tags": []
   },
   "source": [
    "### Importing the relevant libraries for machine learning (predictive analysis)"
   ]
  },
  {
   "cell_type": "code",
   "execution_count": 14,
   "id": "divided-sweet",
   "metadata": {
    "execution": {
     "iopub.execute_input": "2021-07-05T15:47:20.470081Z",
     "iopub.status.busy": "2021-07-05T15:47:20.469352Z",
     "iopub.status.idle": "2021-07-05T15:47:21.136499Z",
     "shell.execute_reply": "2021-07-05T15:47:21.135871Z",
     "shell.execute_reply.started": "2021-07-05T15:14:54.507832Z"
    },
    "executionInfo": {
     "elapsed": 184,
     "status": "ok",
     "timestamp": 1625494226707,
     "user": {
      "displayName": "A",
      "photoUrl": "https://lh3.googleusercontent.com/a-/AOh14GgMmhXeAtiXI_H68TrbvBfwZV-X3PaVgdv5-hTB7w=s64",
      "userId": "10267965304354960339"
     },
     "user_tz": -60
    },
    "id": "crIc8AQY7QGU",
    "papermill": {
     "duration": 0.719389,
     "end_time": "2021-07-05T15:47:21.136700",
     "exception": false,
     "start_time": "2021-07-05T15:47:20.417311",
     "status": "completed"
    },
    "tags": []
   },
   "outputs": [],
   "source": [
    "from sklearn import metrics\n",
    "from sklearn.linear_model import LogisticRegression\n",
    "from sklearn.tree import DecisionTreeClassifier\n",
    "from sklearn.model_selection import train_test_split\n",
    "from sklearn.neighbors import KNeighborsClassifier\n",
    "from sklearn import svm"
   ]
  },
  {
   "cell_type": "markdown",
   "id": "accepted-magazine",
   "metadata": {
    "papermill": {
     "duration": 0.045223,
     "end_time": "2021-07-05T15:47:21.228260",
     "exception": false,
     "start_time": "2021-07-05T15:47:21.183037",
     "status": "completed"
    },
    "tags": []
   },
   "source": [
    "### Using seaborn to show the correlation heatmap"
   ]
  },
  {
   "cell_type": "code",
   "execution_count": 15,
   "id": "through-debut",
   "metadata": {
    "execution": {
     "iopub.execute_input": "2021-07-05T15:47:21.361789Z",
     "iopub.status.busy": "2021-07-05T15:47:21.352149Z",
     "iopub.status.idle": "2021-07-05T15:47:21.651222Z",
     "shell.execute_reply": "2021-07-05T15:47:21.650585Z",
     "shell.execute_reply.started": "2021-07-05T15:14:55.018736Z"
    },
    "executionInfo": {
     "elapsed": 636,
     "status": "ok",
     "timestamp": 1625493635875,
     "user": {
      "displayName": "A",
      "photoUrl": "https://lh3.googleusercontent.com/a-/AOh14GgMmhXeAtiXI_H68TrbvBfwZV-X3PaVgdv5-hTB7w=s64",
      "userId": "10267965304354960339"
     },
     "user_tz": -60
    },
    "id": "evIkAg559AD2",
    "outputId": "7463853c-a8e1-43ef-92f7-0e099eac3c80",
    "papermill": {
     "duration": 0.376731,
     "end_time": "2021-07-05T15:47:21.651367",
     "exception": false,
     "start_time": "2021-07-05T15:47:21.274636",
     "status": "completed"
    },
    "tags": []
   },
   "outputs": [
    {
     "data": {
      "image/png": "[encoded data removed]",
      "text/plain": [
       "<Figure size 504x288 with 2 Axes>"
      ]
     },
     "metadata": {
      "needs_background": "light"
     },
     "output_type": "display_data"
    }
   ],
   "source": [
    "plt.figure(figsize=(7,4))\n",
    "sns.heatmap(df.corr(), annot=True, cmap='Oranges_r')\n",
    "plt.show()"
   ]
  },
  {
   "cell_type": "markdown",
   "id": "lonely-pearl",
   "metadata": {
    "papermill": {
     "duration": 0.045469,
     "end_time": "2021-07-05T15:47:21.742193",
     "exception": false,
     "start_time": "2021-07-05T15:47:21.696724",
     "status": "completed"
    },
    "tags": []
   },
   "source": [
    "### Splitting the data into a Train set and Test set\n",
    "\n",
    "#### The train set is what the model is trained on.\n",
    "#### We then use the test set to see if our predictions are correct"
   ]
  },
  {
   "cell_type": "markdown",
   "id": "congressional-cartridge",
   "metadata": {
    "papermill": {
     "duration": 0.04518,
     "end_time": "2021-07-05T15:47:21.832783",
     "exception": false,
     "start_time": "2021-07-05T15:47:21.787603",
     "status": "completed"
    },
    "tags": []
   },
   "source": [
    "#### The y axis has the target variable (The variable we are trying to predict) which in this case is the species"
   ]
  },
  {
   "cell_type": "code",
   "execution_count": 16,
   "id": "interesting-leave",
   "metadata": {
    "execution": {
     "iopub.execute_input": "2021-07-05T15:47:21.937833Z",
     "iopub.status.busy": "2021-07-05T15:47:21.937074Z",
     "iopub.status.idle": "2021-07-05T15:47:21.941118Z",
     "shell.execute_reply": "2021-07-05T15:47:21.940333Z",
     "shell.execute_reply.started": "2021-07-05T15:14:55.286725Z"
    },
    "executionInfo": {
     "elapsed": 180,
     "status": "ok",
     "timestamp": 1625493865053,
     "user": {
      "displayName": "A",
      "photoUrl": "https://lh3.googleusercontent.com/a-/AOh14GgMmhXeAtiXI_H68TrbvBfwZV-X3PaVgdv5-hTB7w=s64",
      "userId": "10267965304354960339"
     },
     "user_tz": -60
    },
    "id": "xZdzHm159bxV",
    "papermill": {
     "duration": 0.062233,
     "end_time": "2021-07-05T15:47:21.941336",
     "exception": false,
     "start_time": "2021-07-05T15:47:21.879103",
     "status": "completed"
    },
    "tags": []
   },
   "outputs": [],
   "source": [
    "train, test = train_test_split(df, test_size = 0.3)\n",
    "X_train = train[['SepalLengthCm', 'SepalWidthCm', 'PetalLengthCm', 'PetalWidthCm']]\n",
    "y_train = train.Species\n",
    "X_test = test[['SepalLengthCm', 'SepalWidthCm', 'PetalLengthCm', 'PetalWidthCm']]\n",
    "y_test = test.Species"
   ]
  },
  {
   "cell_type": "code",
   "execution_count": 17,
   "id": "sudden-fundamental",
   "metadata": {
    "execution": {
     "iopub.execute_input": "2021-07-05T15:47:22.048492Z",
     "iopub.status.busy": "2021-07-05T15:47:22.047511Z",
     "iopub.status.idle": "2021-07-05T15:47:22.052965Z",
     "shell.execute_reply": "2021-07-05T15:47:22.052298Z",
     "shell.execute_reply.started": "2021-07-05T15:14:55.295971Z"
    },
    "executionInfo": {
     "elapsed": 182,
     "status": "ok",
     "timestamp": 1625493877892,
     "user": {
      "displayName": "A",
      "photoUrl": "https://lh3.googleusercontent.com/a-/AOh14GgMmhXeAtiXI_H68TrbvBfwZV-X3PaVgdv5-hTB7w=s64",
      "userId": "10267965304354960339"
     },
     "user_tz": -60
    },
    "id": "R3dN0h0k_ACU",
    "outputId": "a046bf5f-f8a1-4567-d7b5-811bcecec8a6",
    "papermill": {
     "duration": 0.065094,
     "end_time": "2021-07-05T15:47:22.053114",
     "exception": false,
     "start_time": "2021-07-05T15:47:21.988020",
     "status": "completed"
    },
    "tags": []
   },
   "outputs": [
    {
     "data": {
      "text/html": [
       "<div>\n",
       "<style scoped>\n",
       "    .dataframe tbody tr th:only-of-type {\n",
       "        vertical-align: middle;\n",
       "    }\n",
       "\n",
       "    .dataframe tbody tr th {\n",
       "        vertical-align: top;\n",
       "    }\n",
       "\n",
       "    .dataframe thead th {\n",
       "        text-align: right;\n",
       "    }\n",
       "</style>\n",
       "<table border=\"1\" class=\"dataframe\">\n",
       "  <thead>\n",
       "    <tr style=\"text-align: right;\">\n",
       "      <th></th>\n",
       "      <th>SepalLengthCm</th>\n",
       "      <th>SepalWidthCm</th>\n",
       "      <th>PetalLengthCm</th>\n",
       "      <th>PetalWidthCm</th>\n",
       "    </tr>\n",
       "  </thead>\n",
       "  <tbody>\n",
       "    <tr>\n",
       "      <th>51</th>\n",
       "      <td>6.4</td>\n",
       "      <td>3.2</td>\n",
       "      <td>4.5</td>\n",
       "      <td>1.5</td>\n",
       "    </tr>\n",
       "    <tr>\n",
       "      <th>10</th>\n",
       "      <td>5.4</td>\n",
       "      <td>3.7</td>\n",
       "      <td>1.5</td>\n",
       "      <td>0.2</td>\n",
       "    </tr>\n",
       "    <tr>\n",
       "      <th>118</th>\n",
       "      <td>7.7</td>\n",
       "      <td>2.6</td>\n",
       "      <td>6.9</td>\n",
       "      <td>2.3</td>\n",
       "    </tr>\n",
       "    <tr>\n",
       "      <th>116</th>\n",
       "      <td>6.5</td>\n",
       "      <td>3.0</td>\n",
       "      <td>5.5</td>\n",
       "      <td>1.8</td>\n",
       "    </tr>\n",
       "    <tr>\n",
       "      <th>90</th>\n",
       "      <td>5.5</td>\n",
       "      <td>2.6</td>\n",
       "      <td>4.4</td>\n",
       "      <td>1.2</td>\n",
       "    </tr>\n",
       "  </tbody>\n",
       "</table>\n",
       "</div>"
      ],
      "text/plain": [
       "     SepalLengthCm  SepalWidthCm  PetalLengthCm  PetalWidthCm\n",
       "51             6.4           3.2            4.5           1.5\n",
       "10             5.4           3.7            1.5           0.2\n",
       "118            7.7           2.6            6.9           2.3\n",
       "116            6.5           3.0            5.5           1.8\n",
       "90             5.5           2.6            4.4           1.2"
      ]
     },
     "execution_count": 17,
     "metadata": {},
     "output_type": "execute_result"
    }
   ],
   "source": [
    "X_train.head()"
   ]
  },
  {
   "cell_type": "code",
   "execution_count": 18,
   "id": "fifteen-juvenile",
   "metadata": {
    "execution": {
     "iopub.execute_input": "2021-07-05T15:47:22.154639Z",
     "iopub.status.busy": "2021-07-05T15:47:22.153633Z",
     "iopub.status.idle": "2021-07-05T15:47:22.159020Z",
     "shell.execute_reply": "2021-07-05T15:47:22.158470Z",
     "shell.execute_reply.started": "2021-07-05T15:14:55.315212Z"
    },
    "executionInfo": {
     "elapsed": 192,
     "status": "ok",
     "timestamp": 1625493936026,
     "user": {
      "displayName": "A",
      "photoUrl": "https://lh3.googleusercontent.com/a-/AOh14GgMmhXeAtiXI_H68TrbvBfwZV-X3PaVgdv5-hTB7w=s64",
      "userId": "10267965304354960339"
     },
     "user_tz": -60
    },
    "id": "ZK-fETr1_DKx",
    "outputId": "6f9beb32-ef24-4eee-ca0a-2c9bf1472d15",
    "papermill": {
     "duration": 0.059256,
     "end_time": "2021-07-05T15:47:22.159166",
     "exception": false,
     "start_time": "2021-07-05T15:47:22.099910",
     "status": "completed"
    },
    "tags": []
   },
   "outputs": [
    {
     "data": {
      "text/plain": [
       "51     Iris-versicolor\n",
       "10         Iris-setosa\n",
       "118     Iris-virginica\n",
       "116     Iris-virginica\n",
       "90     Iris-versicolor\n",
       "Name: Species, dtype: object"
      ]
     },
     "execution_count": 18,
     "metadata": {},
     "output_type": "execute_result"
    }
   ],
   "source": [
    "y_train.head()"
   ]
  },
  {
   "cell_type": "markdown",
   "id": "sunrise-yukon",
   "metadata": {
    "papermill": {
     "duration": 0.04764,
     "end_time": "2021-07-05T15:47:22.253859",
     "exception": false,
     "start_time": "2021-07-05T15:47:22.206219",
     "status": "completed"
    },
    "tags": []
   },
   "source": [
    "### SVM Modelling\n",
    "\n",
    "#### You first need to call the model, then fit the train sets to the model using '.fit()'\n",
    "#### After that you can then get the prediction using 'y_pred'\n",
    "\n",
    "#### When you run the accuracy score, you are using the 'prediction' against the 'actual' from the test set. Remember the test set is completely new to the model as the model was trained on the train set."
   ]
  },
  {
   "cell_type": "code",
   "execution_count": 19,
   "id": "representative-lighting",
   "metadata": {
    "execution": {
     "iopub.execute_input": "2021-07-05T15:47:22.357876Z",
     "iopub.status.busy": "2021-07-05T15:47:22.355403Z",
     "iopub.status.idle": "2021-07-05T15:47:22.365158Z",
     "shell.execute_reply": "2021-07-05T15:47:22.366164Z",
     "shell.execute_reply.started": "2021-07-05T15:14:55.322695Z"
    },
    "executionInfo": {
     "elapsed": 182,
     "status": "ok",
     "timestamp": 1625494109290,
     "user": {
      "displayName": "A",
      "photoUrl": "https://lh3.googleusercontent.com/a-/AOh14GgMmhXeAtiXI_H68TrbvBfwZV-X3PaVgdv5-hTB7w=s64",
      "userId": "10267965304354960339"
     },
     "user_tz": -60
    },
    "id": "nD8fXkaI_RU6",
    "outputId": "3a931342-103d-4367-b112-bf960c96ef51",
    "papermill": {
     "duration": 0.065753,
     "end_time": "2021-07-05T15:47:22.366501",
     "exception": false,
     "start_time": "2021-07-05T15:47:22.300748",
     "status": "completed"
    },
    "tags": []
   },
   "outputs": [
    {
     "name": "stdout",
     "output_type": "stream",
     "text": [
      "The accuracy of the SVM model is: 0.9777777777777777\n"
     ]
    }
   ],
   "source": [
    "model = svm.SVC().fit(X_train, y_train)\n",
    "y_pred = model.predict(X_test)\n",
    "\n",
    "print(f'The accuracy of the SVM model is: {metrics.accuracy_score(y_pred, y_test)}')"
   ]
  },
  {
   "cell_type": "markdown",
   "id": "alike-brief",
   "metadata": {
    "papermill": {
     "duration": 0.047325,
     "end_time": "2021-07-05T15:47:22.461989",
     "exception": false,
     "start_time": "2021-07-05T15:47:22.414664",
     "status": "completed"
    },
    "tags": []
   },
   "source": [
    "#### The rest is repetitive as the same format is used"
   ]
  },
  {
   "cell_type": "code",
   "execution_count": 20,
   "id": "demographic-background",
   "metadata": {
    "execution": {
     "iopub.execute_input": "2021-07-05T15:47:22.569581Z",
     "iopub.status.busy": "2021-07-05T15:47:22.567966Z",
     "iopub.status.idle": "2021-07-05T15:47:22.611683Z",
     "shell.execute_reply": "2021-07-05T15:47:22.610656Z",
     "shell.execute_reply.started": "2021-07-05T15:14:55.341491Z"
    },
    "executionInfo": {
     "elapsed": 219,
     "status": "ok",
     "timestamp": 1625494296495,
     "user": {
      "displayName": "A",
      "photoUrl": "https://lh3.googleusercontent.com/a-/AOh14GgMmhXeAtiXI_H68TrbvBfwZV-X3PaVgdv5-hTB7w=s64",
      "userId": "10267965304354960339"
     },
     "user_tz": -60
    },
    "id": "xiKsov6b_7qE",
    "outputId": "982c516d-a209-4fb8-f8b0-15c6ac35acbd",
    "papermill": {
     "duration": 0.101772,
     "end_time": "2021-07-05T15:47:22.611921",
     "exception": false,
     "start_time": "2021-07-05T15:47:22.510149",
     "status": "completed"
    },
    "tags": []
   },
   "outputs": [
    {
     "name": "stdout",
     "output_type": "stream",
     "text": [
      "The accuracy of logistic regression is: 0.9777777777777777\n"
     ]
    }
   ],
   "source": [
    "model = LogisticRegression().fit(X_train, y_train)\n",
    "y_pred = model.predict(X_test)\n",
    "\n",
    "print(f'The accuracy of logistic regression is: {metrics.accuracy_score(y_pred, y_test)}')"
   ]
  },
  {
   "cell_type": "code",
   "execution_count": 21,
   "id": "covered-catering",
   "metadata": {
    "execution": {
     "iopub.execute_input": "2021-07-05T15:47:22.720884Z",
     "iopub.status.busy": "2021-07-05T15:47:22.716759Z",
     "iopub.status.idle": "2021-07-05T15:47:22.728548Z",
     "shell.execute_reply": "2021-07-05T15:47:22.729224Z",
     "shell.execute_reply.started": "2021-07-05T15:15:28.191099Z"
    },
    "executionInfo": {
     "elapsed": 177,
     "status": "ok",
     "timestamp": 1625494586895,
     "user": {
      "displayName": "A",
      "photoUrl": "https://lh3.googleusercontent.com/a-/AOh14GgMmhXeAtiXI_H68TrbvBfwZV-X3PaVgdv5-hTB7w=s64",
      "userId": "10267965304354960339"
     },
     "user_tz": -60
    },
    "id": "V-SnpjulApWX",
    "outputId": "7e17dbac-eb14-4113-8a8e-219eea54dde9",
    "papermill": {
     "duration": 0.068759,
     "end_time": "2021-07-05T15:47:22.729514",
     "exception": false,
     "start_time": "2021-07-05T15:47:22.660755",
     "status": "completed"
    },
    "tags": []
   },
   "outputs": [
    {
     "name": "stdout",
     "output_type": "stream",
     "text": [
      "The accuracy of KNeighboursClassifier is: 0.9777777777777777\n"
     ]
    }
   ],
   "source": [
    "model = KNeighborsClassifier(n_neighbors=10).fit(X_train, y_train)\n",
    "y_pred = model.predict(X_test)\n",
    "\n",
    "print(f'The accuracy of KNeighboursClassifier is: {metrics.accuracy_score(y_pred, y_test)}')"
   ]
  },
  {
   "cell_type": "markdown",
   "id": "inner-traffic",
   "metadata": {
    "papermill": {
     "duration": 0.048283,
     "end_time": "2021-07-05T15:47:22.826257",
     "exception": false,
     "start_time": "2021-07-05T15:47:22.777974",
     "status": "completed"
    },
    "tags": []
   },
   "source": [
    "### This shows a graph of the number of neighbours in which the K Neighbour Classifier performs the best"
   ]
  },
  {
   "cell_type": "code",
   "execution_count": 22,
   "id": "geological-mongolia",
   "metadata": {
    "execution": {
     "iopub.execute_input": "2021-07-05T15:47:22.937021Z",
     "iopub.status.busy": "2021-07-05T15:47:22.935919Z",
     "iopub.status.idle": "2021-07-05T15:47:23.146465Z",
     "shell.execute_reply": "2021-07-05T15:47:23.145770Z",
     "shell.execute_reply.started": "2021-07-05T15:15:31.209245Z"
    },
    "executionInfo": {
     "elapsed": 489,
     "status": "ok",
     "timestamp": 1625494672137,
     "user": {
      "displayName": "A",
      "photoUrl": "https://lh3.googleusercontent.com/a-/AOh14GgMmhXeAtiXI_H68TrbvBfwZV-X3PaVgdv5-hTB7w=s64",
      "userId": "10267965304354960339"
     },
     "user_tz": -60
    },
    "id": "KCye5kq9ByHA",
    "outputId": "93b31f09-c236-4643-f05d-648fc82b21eb",
    "papermill": {
     "duration": 0.271985,
     "end_time": "2021-07-05T15:47:23.146638",
     "exception": false,
     "start_time": "2021-07-05T15:47:22.874653",
     "status": "completed"
    },
    "tags": []
   },
   "outputs": [
    {
     "name": "stderr",
     "output_type": "stream",
     "text": [
      "/opt/conda/lib/python3.7/site-packages/ipykernel_launcher.py:2: DeprecationWarning: The default dtype for empty Series will be 'object' instead of 'float64' in a future version. Specify a dtype explicitly to silence this warning.\n",
      "  \n"
     ]
    },
    {
     "data": {
      "text/plain": [
       "([<matplotlib.axis.XTick at 0x7f9bcfd7a650>,\n",
       "  <matplotlib.axis.XTick at 0x7f9bcfd7a050>,\n",
       "  <matplotlib.axis.XTick at 0x7f9bcfd7a610>,\n",
       "  <matplotlib.axis.XTick at 0x7f9bcfda40d0>,\n",
       "  <matplotlib.axis.XTick at 0x7f9bcfd33c50>,\n",
       "  <matplotlib.axis.XTick at 0x7f9bcfd3d690>,\n",
       "  <matplotlib.axis.XTick at 0x7f9bcfd3dad0>,\n",
       "  <matplotlib.axis.XTick at 0x7f9bcfd452d0>,\n",
       "  <matplotlib.axis.XTick at 0x7f9bcfd45910>,\n",
       "  <matplotlib.axis.XTick at 0x7f9bcfd45990>],\n",
       " [Text(0, 0, ''),\n",
       "  Text(0, 0, ''),\n",
       "  Text(0, 0, ''),\n",
       "  Text(0, 0, ''),\n",
       "  Text(0, 0, ''),\n",
       "  Text(0, 0, ''),\n",
       "  Text(0, 0, ''),\n",
       "  Text(0, 0, ''),\n",
       "  Text(0, 0, ''),\n",
       "  Text(0, 0, '')])"
      ]
     },
     "execution_count": 22,
     "metadata": {},
     "output_type": "execute_result"
    },
    {
     "data": {
      "image/png": "[encoded data removed]",
      "text/plain": [
       "<Figure size 432x288 with 1 Axes>"
      ]
     },
     "metadata": {
      "needs_background": "light"
     },
     "output_type": "display_data"
    }
   ],
   "source": [
    "a_index=list(range(1,11))\n",
    "a=pd.Series()\n",
    "x=[1,2,3,4,5,6,7,8,9,10]\n",
    "for i in list(range(1,11)):\n",
    "    model=KNeighborsClassifier(n_neighbors=i) \n",
    "    model.fit(X_train,y_train)\n",
    "    y_pred=model.predict(X_test)\n",
    "    a=a.append(pd.Series(metrics.accuracy_score(y_pred,y_test)))\n",
    "plt.plot(a_index, a)\n",
    "plt.xticks(x)"
   ]
  },
  {
   "cell_type": "code",
   "execution_count": 23,
   "id": "internal-owner",
   "metadata": {
    "execution": {
     "iopub.execute_input": "2021-07-05T15:47:23.256526Z",
     "iopub.status.busy": "2021-07-05T15:47:23.252834Z",
     "iopub.status.idle": "2021-07-05T15:47:23.261673Z",
     "shell.execute_reply": "2021-07-05T15:47:23.261080Z",
     "shell.execute_reply.started": "2021-07-05T15:14:55.599037Z"
    },
    "executionInfo": {
     "elapsed": 209,
     "status": "ok",
     "timestamp": 1625494468073,
     "user": {
      "displayName": "A",
      "photoUrl": "https://lh3.googleusercontent.com/a-/AOh14GgMmhXeAtiXI_H68TrbvBfwZV-X3PaVgdv5-hTB7w=s64",
      "userId": "10267965304354960339"
     },
     "user_tz": -60
    },
    "id": "KLjezYHABBg5",
    "outputId": "92542841-8cc2-4e2c-c0e8-bbf258fc4dc0",
    "papermill": {
     "duration": 0.065902,
     "end_time": "2021-07-05T15:47:23.261852",
     "exception": false,
     "start_time": "2021-07-05T15:47:23.195950",
     "status": "completed"
    },
    "tags": []
   },
   "outputs": [
    {
     "name": "stdout",
     "output_type": "stream",
     "text": [
      "The accuracy of Decision Tree Classifier is: 0.9555555555555556\n"
     ]
    }
   ],
   "source": [
    "model = DecisionTreeClassifier().fit(X_train, y_train)\n",
    "y_pred = model.predict(X_test)\n",
    "\n",
    "print(f'The accuracy of Decision Tree Classifier is: {metrics.accuracy_score(y_pred, y_test)}')"
   ]
  },
  {
   "cell_type": "markdown",
   "id": "unexpected-mystery",
   "metadata": {
    "papermill": {
     "duration": 0.050431,
     "end_time": "2021-07-05T15:47:23.362088",
     "exception": false,
     "start_time": "2021-07-05T15:47:23.311657",
     "status": "completed"
    },
    "tags": []
   },
   "source": [
    "### The K Neighbours classifier performed the best with this dataset"
   ]
  },
  {
   "cell_type": "markdown",
   "id": "promotional-liquid",
   "metadata": {
    "papermill": {
     "duration": 0.049348,
     "end_time": "2021-07-05T15:47:23.462474",
     "exception": false,
     "start_time": "2021-07-05T15:47:23.413126",
     "status": "completed"
    },
    "tags": []
   },
   "source": [
    "### You can then test the accuracy between just the Petals and Sepals separately. \n",
    "#### They are split into their own datasets and then using thr train_test_split method, split into train and test sets\n",
    "\n",
    "#### As you can see 'X_train_p' is the training set for petals and 'X_train_s' is the training set for sepals"
   ]
  },
  {
   "cell_type": "code",
   "execution_count": 24,
   "id": "compound-civilization",
   "metadata": {
    "execution": {
     "iopub.execute_input": "2021-07-05T15:47:23.571818Z",
     "iopub.status.busy": "2021-07-05T15:47:23.571107Z",
     "iopub.status.idle": "2021-07-05T15:47:23.575054Z",
     "shell.execute_reply": "2021-07-05T15:47:23.574488Z",
     "shell.execute_reply.started": "2021-07-05T15:14:55.610107Z"
    },
    "executionInfo": {
     "elapsed": 176,
     "status": "ok",
     "timestamp": 1625494798196,
     "user": {
      "displayName": "A",
      "photoUrl": "https://lh3.googleusercontent.com/a-/AOh14GgMmhXeAtiXI_H68TrbvBfwZV-X3PaVgdv5-hTB7w=s64",
      "userId": "10267965304354960339"
     },
     "user_tz": -60
    },
    "id": "_WcVCHJ9BTP4",
    "papermill": {
     "duration": 0.062942,
     "end_time": "2021-07-05T15:47:23.575204",
     "exception": false,
     "start_time": "2021-07-05T15:47:23.512262",
     "status": "completed"
    },
    "tags": []
   },
   "outputs": [],
   "source": [
    "petals = df[['PetalLengthCm', 'PetalWidthCm', 'Species']]\n",
    "sepals = df[['SepalLengthCm', 'SepalWidthCm', 'Species']]"
   ]
  },
  {
   "cell_type": "code",
   "execution_count": 25,
   "id": "transparent-rapid",
   "metadata": {
    "execution": {
     "iopub.execute_input": "2021-07-05T15:47:23.690757Z",
     "iopub.status.busy": "2021-07-05T15:47:23.687171Z",
     "iopub.status.idle": "2021-07-05T15:47:23.694598Z",
     "shell.execute_reply": "2021-07-05T15:47:23.693943Z",
     "shell.execute_reply.started": "2021-07-05T15:14:55.624091Z"
    },
    "executionInfo": {
     "elapsed": 186,
     "status": "ok",
     "timestamp": 1625495094308,
     "user": {
      "displayName": "A",
      "photoUrl": "https://lh3.googleusercontent.com/a-/AOh14GgMmhXeAtiXI_H68TrbvBfwZV-X3PaVgdv5-hTB7w=s64",
      "userId": "10267965304354960339"
     },
     "user_tz": -60
    },
    "id": "AdiBHkMhCj2u",
    "papermill": {
     "duration": 0.069604,
     "end_time": "2021-07-05T15:47:23.694772",
     "exception": false,
     "start_time": "2021-07-05T15:47:23.625168",
     "status": "completed"
    },
    "tags": []
   },
   "outputs": [],
   "source": [
    "train_p, test_p = train_test_split(petals, test_size=0.3, random_state=0)\n",
    "\n",
    "X_train_p = train_p[['PetalLengthCm', 'PetalWidthCm']]\n",
    "y_train_p = train_p.Species\n",
    "X_test_p = test_p[['PetalLengthCm', 'PetalWidthCm']]\n",
    "y_test_p = test_p.Species\n",
    "\n",
    "\n",
    "train_s, test_s = train_test_split(sepals, test_size=0.3, random_state=0)\n",
    "X_train_s = train_s[['SepalLengthCm', 'SepalWidthCm']]\n",
    "y_train_s = train_s.Species\n",
    "X_test_s = test_s[['SepalLengthCm', 'SepalWidthCm']]\n",
    "y_test_s = test_s.Species"
   ]
  },
  {
   "cell_type": "markdown",
   "id": "nonprofit-source",
   "metadata": {
    "papermill": {
     "duration": 0.049512,
     "end_time": "2021-07-05T15:47:23.794080",
     "exception": false,
     "start_time": "2021-07-05T15:47:23.744568",
     "status": "completed"
    },
    "tags": []
   },
   "source": [
    "#### Fitting the model is the same as before, however, for each model, it will be fitted for both the petal dataset and sepa dataset"
   ]
  },
  {
   "cell_type": "code",
   "execution_count": 26,
   "id": "split-graham",
   "metadata": {
    "execution": {
     "iopub.execute_input": "2021-07-05T15:47:23.904104Z",
     "iopub.status.busy": "2021-07-05T15:47:23.902156Z",
     "iopub.status.idle": "2021-07-05T15:47:23.915616Z",
     "shell.execute_reply": "2021-07-05T15:47:23.914924Z",
     "shell.execute_reply.started": "2021-07-05T15:14:55.643844Z"
    },
    "executionInfo": {
     "elapsed": 218,
     "status": "ok",
     "timestamp": 1625495320304,
     "user": {
      "displayName": "A",
      "photoUrl": "https://lh3.googleusercontent.com/a-/AOh14GgMmhXeAtiXI_H68TrbvBfwZV-X3PaVgdv5-hTB7w=s64",
      "userId": "10267965304354960339"
     },
     "user_tz": -60
    },
    "id": "ttMsX8fjDsHB",
    "outputId": "14ed92a2-eba5-4f3e-d18d-f78e7f6b74b8",
    "papermill": {
     "duration": 0.071787,
     "end_time": "2021-07-05T15:47:23.915776",
     "exception": false,
     "start_time": "2021-07-05T15:47:23.843989",
     "status": "completed"
    },
    "tags": []
   },
   "outputs": [
    {
     "name": "stdout",
     "output_type": "stream",
     "text": [
      "The accuracy of the svm model using petals is: 0.9777777777777777\n",
      "The accuracy of the svm model using sepals is: 0.8\n"
     ]
    }
   ],
   "source": [
    "model = svm.SVC().fit(X_train_p, y_train_p)\n",
    "y_pred = model.predict(X_test_p)\n",
    "\n",
    "model = svm.SVC().fit(X_train_s, y_train_s)\n",
    "y_pred2 = model.predict(X_test_s)\n",
    "\n",
    "print(f'The accuracy of the svm model using petals is: {metrics.accuracy_score(y_pred, y_test_p)}')\n",
    "print(f'The accuracy of the svm model using sepals is: {metrics.accuracy_score(y_pred2, y_test_s)}')"
   ]
  },
  {
   "cell_type": "code",
   "execution_count": 27,
   "id": "ready-accuracy",
   "metadata": {
    "execution": {
     "iopub.execute_input": "2021-07-05T15:47:24.026337Z",
     "iopub.status.busy": "2021-07-05T15:47:24.024982Z",
     "iopub.status.idle": "2021-07-05T15:47:24.063050Z",
     "shell.execute_reply": "2021-07-05T15:47:24.063538Z",
     "shell.execute_reply.started": "2021-07-05T15:14:55.666327Z"
    },
    "executionInfo": {
     "elapsed": 181,
     "status": "ok",
     "timestamp": 1625496963500,
     "user": {
      "displayName": "A",
      "photoUrl": "https://lh3.googleusercontent.com/a-/AOh14GgMmhXeAtiXI_H68TrbvBfwZV-X3PaVgdv5-hTB7w=s64",
      "userId": "10267965304354960339"
     },
     "user_tz": -60
    },
    "id": "CNpjLvMhEBVO",
    "outputId": "1db1fe6e-e754-4db7-d2be-d75aba28618a",
    "papermill": {
     "duration": 0.098315,
     "end_time": "2021-07-05T15:47:24.063720",
     "exception": false,
     "start_time": "2021-07-05T15:47:23.965405",
     "status": "completed"
    },
    "tags": []
   },
   "outputs": [
    {
     "name": "stdout",
     "output_type": "stream",
     "text": [
      "The accuracy of Logistic Regression using petals is: 0.9777777777777777\n",
      "The accuracy of Logistic Regression using sepals is: 0.8222222222222222\n"
     ]
    }
   ],
   "source": [
    "model = LogisticRegression().fit(X_train_p, y_train_p)\n",
    "y_pred = model.predict(X_test_p)\n",
    "\n",
    "model = LogisticRegression().fit(X_train_s, y_train_s)\n",
    "y_pred2 = model.predict(X_test_s)\n",
    "\n",
    "print(f'The accuracy of Logistic Regression using petals is: {metrics.accuracy_score(y_pred, y_test_p)}')\n",
    "print(f'The accuracy of Logistic Regression using sepals is: {metrics.accuracy_score(y_pred2, y_test_s)}')"
   ]
  },
  {
   "cell_type": "code",
   "execution_count": 28,
   "id": "representative-colors",
   "metadata": {
    "execution": {
     "iopub.execute_input": "2021-07-05T15:47:24.173722Z",
     "iopub.status.busy": "2021-07-05T15:47:24.172655Z",
     "iopub.status.idle": "2021-07-05T15:47:24.186087Z",
     "shell.execute_reply": "2021-07-05T15:47:24.185591Z",
     "shell.execute_reply.started": "2021-07-05T15:14:55.707436Z"
    },
    "executionInfo": {
     "elapsed": 2,
     "status": "ok",
     "timestamp": 1625496964322,
     "user": {
      "displayName": "A",
      "photoUrl": "https://lh3.googleusercontent.com/a-/AOh14GgMmhXeAtiXI_H68TrbvBfwZV-X3PaVgdv5-hTB7w=s64",
      "userId": "10267965304354960339"
     },
     "user_tz": -60
    },
    "id": "dnQacgOfFE0m",
    "outputId": "574430c0-593c-432c-f271-b4f3e511a275",
    "papermill": {
     "duration": 0.07207,
     "end_time": "2021-07-05T15:47:24.186233",
     "exception": false,
     "start_time": "2021-07-05T15:47:24.114163",
     "status": "completed"
    },
    "tags": []
   },
   "outputs": [
    {
     "name": "stdout",
     "output_type": "stream",
     "text": [
      "The accuracy of the decision tree model using petals is: 0.9555555555555556\n",
      "The accuracy of the decision tree model using sepals is: 0.6444444444444445\n"
     ]
    }
   ],
   "source": [
    "model = DecisionTreeClassifier().fit(X_train_p, y_train_p)\n",
    "y_pred = model.predict(X_test_p)\n",
    "\n",
    "model = DecisionTreeClassifier().fit(X_train_s, y_train_s)\n",
    "y_pred2 = model.predict(X_test_s)\n",
    "\n",
    "print(f'The accuracy of the decision tree model using petals is: {metrics.accuracy_score(y_pred, y_test_p)}')\n",
    "print(f'The accuracy of the decision tree model using sepals is: {metrics.accuracy_score(y_pred2, y_test_s)}')"
   ]
  },
  {
   "cell_type": "code",
   "execution_count": 29,
   "id": "technical-herald",
   "metadata": {
    "execution": {
     "iopub.execute_input": "2021-07-05T15:47:24.300947Z",
     "iopub.status.busy": "2021-07-05T15:47:24.299334Z",
     "iopub.status.idle": "2021-07-05T15:47:24.316983Z",
     "shell.execute_reply": "2021-07-05T15:47:24.316141Z",
     "shell.execute_reply.started": "2021-07-05T15:15:49.318438Z"
    },
    "executionInfo": {
     "elapsed": 6,
     "status": "ok",
     "timestamp": 1625496964547,
     "user": {
      "displayName": "A",
      "photoUrl": "https://lh3.googleusercontent.com/a-/AOh14GgMmhXeAtiXI_H68TrbvBfwZV-X3PaVgdv5-hTB7w=s64",
      "userId": "10267965304354960339"
     },
     "user_tz": -60
    },
    "id": "N7RQsAgXJ9ms",
    "outputId": "1fc67212-bb34-4034-cd0d-eda7db8e8190",
    "papermill": {
     "duration": 0.081056,
     "end_time": "2021-07-05T15:47:24.317215",
     "exception": false,
     "start_time": "2021-07-05T15:47:24.236159",
     "status": "completed"
    },
    "tags": []
   },
   "outputs": [
    {
     "name": "stdout",
     "output_type": "stream",
     "text": [
      "The accuracy of the KNN model using petals is: 0.9777777777777777\n",
      "The accuracy of the KNN model using sepals is: 0.7333333333333333\n"
     ]
    }
   ],
   "source": [
    "model = KNeighborsClassifier(n_neighbors=10).fit(X_train_p, y_train_p)\n",
    "y_pred = model.predict(X_test_p)\n",
    "\n",
    "model = KNeighborsClassifier(n_neighbors=10).fit(X_train_s, y_train_s)\n",
    "y_pred2 = model.predict(X_test_s)\n",
    "\n",
    "print(f'The accuracy of the KNN model using petals is: {metrics.accuracy_score(y_pred, y_test_p)}')\n",
    "print(f'The accuracy of the KNN model using sepals is: {metrics.accuracy_score(y_pred2, y_test_s)}')"
   ]
  },
  {
   "cell_type": "markdown",
   "id": "developing-devon",
   "metadata": {
    "papermill": {
     "duration": 0.050996,
     "end_time": "2021-07-05T15:47:24.420009",
     "exception": false,
     "start_time": "2021-07-05T15:47:24.369013",
     "status": "completed"
    },
    "tags": []
   },
   "source": [
    "### Final observations:\n",
    "\n",
    "### - Using Petals for training the data is better than using sepals. They generate a higher accuracy score\n",
    "\n",
    "#### The highest accuracy score generated is 98%"
   ]
  },
  {
   "cell_type": "code",
   "execution_count": null,
   "id": "gothic-creativity",
   "metadata": {
    "papermill": {
     "duration": 0.051828,
     "end_time": "2021-07-05T15:47:24.523510",
     "exception": false,
     "start_time": "2021-07-05T15:47:24.471682",
     "status": "completed"
    },
    "tags": []
   },
   "outputs": [],
   "source": []
  }
 ],
 "metadata": {
  "kernelspec": {
   "display_name": "Python 3",
   "language": "python",
   "name": "python3"
  },
  "language_info": {
   "codemirror_mode": {
    "name": "ipython",
    "version": 3
   },
   "file_extension": ".py",
   "mimetype": "text/x-python",
   "name": "python",
   "nbconvert_exporter": "python",
   "pygments_lexer": "ipython3",
   "version": "3.7.9"
  },
  "papermill": {
   "default_parameters": {},
   "duration": 17.266689,
   "end_time": "2021-07-05T15:47:25.587891",
   "environment_variables": {},
   "exception": null,
   "input_path": "__notebook__.ipynb",
   "output_path": "__notebook__.ipynb",
   "parameters": {},
   "start_time": "2021-07-05T15:47:08.321202",
   "version": "2.3.2"
  }
 },
 "nbformat": 4,
 "nbformat_minor": 5
}
