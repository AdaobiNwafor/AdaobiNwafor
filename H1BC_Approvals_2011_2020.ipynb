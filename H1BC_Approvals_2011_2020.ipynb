{
  "nbformat": 4,
  "nbformat_minor": 0,
  "metadata": {
    "colab": {
      "name": "H1BC Approvals 2011 - 2020.ipynb",
      "provenance": [],
      "authorship_tag": "ABX9TyPSStz73oNtWDCbM4bhG3O7",
      "include_colab_link": true
    },
    "kernelspec": {
      "name": "python3",
      "display_name": "Python 3"
    },
    "language_info": {
      "name": "python"
    }
  },
  "cells": [
    {
      "cell_type": "markdown",
      "metadata": {
        "id": "view-in-github",
        "colab_type": "text"
      },
      "source": [
        "<a href=\"https://colab.research.google.com/github/AdaobiNwafor/DataScience-Projects/blob/main/H1BC_Approvals_2011_2020.ipynb\" target=\"_parent\"><img src=\"https://colab.research.google.com/assets/colab-badge.svg\" alt=\"Open In Colab\"/></a>"
      ]
    },
    {
      "cell_type": "code",
      "metadata": {
        "id": "jov3ZkzwmU6k"
      },
      "source": [
        "import pandas as pd\n",
        "import numpy as np\n",
        "import matplotlib.pyplot as plt\n",
        "import seaborn as sns\n",
        "\n",
        "%matplotlib inline"
      ],
      "execution_count": 31,
      "outputs": []
    },
    {
      "cell_type": "code",
      "metadata": {
        "id": "zUFU6sTYm2-f"
      },
      "source": [
        "from os import listdir\n",
        "import glob\n",
        "\n",
        "# filepaths = [f for f in listdir('/content/H1B') if f.endswith('.csv')]\n",
        "# df = pd.concat(map(pd.read_csv, filepaths))\n",
        "\n",
        "df = pd.concat(map(pd.read_csv, glob.glob('/content/H1B/*.csv')))\n"
      ],
      "execution_count": 32,
      "outputs": []
    },
    {
      "cell_type": "code",
      "metadata": {
        "colab": {
          "base_uri": "https://localhost:8080/",
          "height": 427
        },
        "id": "kFmyVxmnn_BN",
        "outputId": "b5666956-2aa9-4b19-8697-d3112805147e"
      },
      "source": [
        "df.head()"
      ],
      "execution_count": 33,
      "outputs": [
        {
          "output_type": "execute_result",
          "data": {
            "text/html": [
              "<div>\n",
              "<style scoped>\n",
              "    .dataframe tbody tr th:only-of-type {\n",
              "        vertical-align: middle;\n",
              "    }\n",
              "\n",
              "    .dataframe tbody tr th {\n",
              "        vertical-align: top;\n",
              "    }\n",
              "\n",
              "    .dataframe thead th {\n",
              "        text-align: right;\n",
              "    }\n",
              "</style>\n",
              "<table border=\"1\" class=\"dataframe\">\n",
              "  <thead>\n",
              "    <tr style=\"text-align: right;\">\n",
              "      <th></th>\n",
              "      <th>Fiscal Year</th>\n",
              "      <th>Employer</th>\n",
              "      <th>Initial Approvals</th>\n",
              "      <th>Initial Denials</th>\n",
              "      <th>Continuing Approvals</th>\n",
              "      <th>Continuing Denials</th>\n",
              "      <th>NAICS</th>\n",
              "      <th>Tax ID</th>\n",
              "      <th>State</th>\n",
              "      <th>City</th>\n",
              "      <th>ZIP</th>\n",
              "      <th>Initial Approval</th>\n",
              "      <th>Initial Denial</th>\n",
              "      <th>Continuing Approval</th>\n",
              "      <th>Continuing Denial</th>\n",
              "    </tr>\n",
              "  </thead>\n",
              "  <tbody>\n",
              "    <tr>\n",
              "      <th>0</th>\n",
              "      <td>2014</td>\n",
              "      <td>TANANA VALLEY CLINIC</td>\n",
              "      <td>0</td>\n",
              "      <td>0</td>\n",
              "      <td>1</td>\n",
              "      <td>0</td>\n",
              "      <td>62</td>\n",
              "      <td>NaN</td>\n",
              "      <td>AK</td>\n",
              "      <td>FAIRBANKS</td>\n",
              "      <td>99701.0</td>\n",
              "      <td>NaN</td>\n",
              "      <td>NaN</td>\n",
              "      <td>NaN</td>\n",
              "      <td>NaN</td>\n",
              "    </tr>\n",
              "    <tr>\n",
              "      <th>1</th>\n",
              "      <td>2014</td>\n",
              "      <td>DEPT OF VETERANS AFFAIRS BIRMINGHA</td>\n",
              "      <td>0</td>\n",
              "      <td>0</td>\n",
              "      <td>1</td>\n",
              "      <td>0</td>\n",
              "      <td>62</td>\n",
              "      <td>NaN</td>\n",
              "      <td>AL</td>\n",
              "      <td>BIRMINGHAM</td>\n",
              "      <td>35233.0</td>\n",
              "      <td>NaN</td>\n",
              "      <td>NaN</td>\n",
              "      <td>NaN</td>\n",
              "      <td>NaN</td>\n",
              "    </tr>\n",
              "    <tr>\n",
              "      <th>2</th>\n",
              "      <td>2014</td>\n",
              "      <td>AL SCHOOL OF MATHEMATICS &amp; SCIENCE</td>\n",
              "      <td>0</td>\n",
              "      <td>0</td>\n",
              "      <td>1</td>\n",
              "      <td>0</td>\n",
              "      <td>99</td>\n",
              "      <td>NaN</td>\n",
              "      <td>AL</td>\n",
              "      <td>MOBILE</td>\n",
              "      <td>36604.0</td>\n",
              "      <td>NaN</td>\n",
              "      <td>NaN</td>\n",
              "      <td>NaN</td>\n",
              "      <td>NaN</td>\n",
              "    </tr>\n",
              "    <tr>\n",
              "      <th>3</th>\n",
              "      <td>2014</td>\n",
              "      <td>PACWORX INC</td>\n",
              "      <td>0</td>\n",
              "      <td>1</td>\n",
              "      <td>0</td>\n",
              "      <td>0</td>\n",
              "      <td>54</td>\n",
              "      <td>NaN</td>\n",
              "      <td>AZ</td>\n",
              "      <td>PHOENIX</td>\n",
              "      <td>85009.0</td>\n",
              "      <td>NaN</td>\n",
              "      <td>NaN</td>\n",
              "      <td>NaN</td>\n",
              "      <td>NaN</td>\n",
              "    </tr>\n",
              "    <tr>\n",
              "      <th>4</th>\n",
              "      <td>2014</td>\n",
              "      <td>ABLE CHEMICAL TECHNOLOGY INC</td>\n",
              "      <td>1</td>\n",
              "      <td>0</td>\n",
              "      <td>0</td>\n",
              "      <td>0</td>\n",
              "      <td>32</td>\n",
              "      <td>NaN</td>\n",
              "      <td>CA</td>\n",
              "      <td>ARCADIA</td>\n",
              "      <td>91006.0</td>\n",
              "      <td>NaN</td>\n",
              "      <td>NaN</td>\n",
              "      <td>NaN</td>\n",
              "      <td>NaN</td>\n",
              "    </tr>\n",
              "  </tbody>\n",
              "</table>\n",
              "</div>"
            ],
            "text/plain": [
              "   Fiscal Year  ... Continuing Denial\n",
              "0         2014  ...               NaN\n",
              "1         2014  ...               NaN\n",
              "2         2014  ...               NaN\n",
              "3         2014  ...               NaN\n",
              "4         2014  ...               NaN\n",
              "\n",
              "[5 rows x 15 columns]"
            ]
          },
          "metadata": {
            "tags": []
          },
          "execution_count": 33
        }
      ]
    },
    {
      "cell_type": "code",
      "metadata": {
        "id": "K12u5fvYomVE"
      },
      "source": [
        "tech = df[df['NAICS'] == 51]"
      ],
      "execution_count": 34,
      "outputs": []
    },
    {
      "cell_type": "code",
      "metadata": {
        "colab": {
          "base_uri": "https://localhost:8080/"
        },
        "id": "ibHP2fN7o9kM",
        "outputId": "a6e8dee1-7fe1-41a3-8342-fc19fa7f3c84"
      },
      "source": [
        "tech.drop('Tax ID', axis=1, inplace=True)"
      ],
      "execution_count": 42,
      "outputs": [
        {
          "output_type": "stream",
          "text": [
            "/usr/local/lib/python3.7/dist-packages/pandas/core/frame.py:4174: SettingWithCopyWarning: \n",
            "A value is trying to be set on a copy of a slice from a DataFrame\n",
            "\n",
            "See the caveats in the documentation: https://pandas.pydata.org/pandas-docs/stable/user_guide/indexing.html#returning-a-view-versus-a-copy\n",
            "  errors=errors,\n"
          ],
          "name": "stderr"
        }
      ]
    },
    {
      "cell_type": "code",
      "metadata": {
        "colab": {
          "base_uri": "https://localhost:8080/",
          "height": 410
        },
        "id": "7MHD9BJ6qhYc",
        "outputId": "1a9b43b5-0ddf-40cb-b83c-ea6382f50815"
      },
      "source": [
        "tech.head()"
      ],
      "execution_count": 43,
      "outputs": [
        {
          "output_type": "execute_result",
          "data": {
            "text/html": [
              "<div>\n",
              "<style scoped>\n",
              "    .dataframe tbody tr th:only-of-type {\n",
              "        vertical-align: middle;\n",
              "    }\n",
              "\n",
              "    .dataframe tbody tr th {\n",
              "        vertical-align: top;\n",
              "    }\n",
              "\n",
              "    .dataframe thead th {\n",
              "        text-align: right;\n",
              "    }\n",
              "</style>\n",
              "<table border=\"1\" class=\"dataframe\">\n",
              "  <thead>\n",
              "    <tr style=\"text-align: right;\">\n",
              "      <th></th>\n",
              "      <th>Fiscal Year</th>\n",
              "      <th>Employer</th>\n",
              "      <th>Initial Approvals</th>\n",
              "      <th>Initial Denials</th>\n",
              "      <th>Continuing Approvals</th>\n",
              "      <th>Continuing Denials</th>\n",
              "      <th>NAICS</th>\n",
              "      <th>State</th>\n",
              "      <th>City</th>\n",
              "      <th>ZIP</th>\n",
              "      <th>Initial Approval</th>\n",
              "      <th>Initial Denial</th>\n",
              "      <th>Continuing Approval</th>\n",
              "      <th>Continuing Denial</th>\n",
              "      <th>Overall Approval</th>\n",
              "      <th>Overall Denial</th>\n",
              "    </tr>\n",
              "  </thead>\n",
              "  <tbody>\n",
              "    <tr>\n",
              "      <th>17</th>\n",
              "      <td>2014</td>\n",
              "      <td>FJ PRODUCTIONS INC</td>\n",
              "      <td>1</td>\n",
              "      <td>0</td>\n",
              "      <td>0</td>\n",
              "      <td>0</td>\n",
              "      <td>51</td>\n",
              "      <td>CA</td>\n",
              "      <td>SHERMAN OAKS</td>\n",
              "      <td>91403.0</td>\n",
              "      <td>NaN</td>\n",
              "      <td>NaN</td>\n",
              "      <td>NaN</td>\n",
              "      <td>NaN</td>\n",
              "      <td>NaN</td>\n",
              "      <td>NaN</td>\n",
              "    </tr>\n",
              "    <tr>\n",
              "      <th>32</th>\n",
              "      <td>2014</td>\n",
              "      <td>VITACOM SERVICES CORPORATION</td>\n",
              "      <td>0</td>\n",
              "      <td>0</td>\n",
              "      <td>1</td>\n",
              "      <td>0</td>\n",
              "      <td>51</td>\n",
              "      <td>FL</td>\n",
              "      <td>MIAMI</td>\n",
              "      <td>33173.0</td>\n",
              "      <td>NaN</td>\n",
              "      <td>NaN</td>\n",
              "      <td>NaN</td>\n",
              "      <td>NaN</td>\n",
              "      <td>NaN</td>\n",
              "      <td>NaN</td>\n",
              "    </tr>\n",
              "    <tr>\n",
              "      <th>83</th>\n",
              "      <td>2014</td>\n",
              "      <td>COOL HAND LUKE PRODUCTIONS INC</td>\n",
              "      <td>1</td>\n",
              "      <td>0</td>\n",
              "      <td>0</td>\n",
              "      <td>0</td>\n",
              "      <td>51</td>\n",
              "      <td>NY</td>\n",
              "      <td>NEW YORK</td>\n",
              "      <td>10019.0</td>\n",
              "      <td>NaN</td>\n",
              "      <td>NaN</td>\n",
              "      <td>NaN</td>\n",
              "      <td>NaN</td>\n",
              "      <td>NaN</td>\n",
              "      <td>NaN</td>\n",
              "    </tr>\n",
              "    <tr>\n",
              "      <th>88</th>\n",
              "      <td>2014</td>\n",
              "      <td>THE E W SCRIPPS COMPANY</td>\n",
              "      <td>1</td>\n",
              "      <td>0</td>\n",
              "      <td>0</td>\n",
              "      <td>0</td>\n",
              "      <td>51</td>\n",
              "      <td>OH</td>\n",
              "      <td>CINCINNATI</td>\n",
              "      <td>45202.0</td>\n",
              "      <td>NaN</td>\n",
              "      <td>NaN</td>\n",
              "      <td>NaN</td>\n",
              "      <td>NaN</td>\n",
              "      <td>NaN</td>\n",
              "      <td>NaN</td>\n",
              "    </tr>\n",
              "    <tr>\n",
              "      <th>205</th>\n",
              "      <td>2014</td>\n",
              "      <td>MYBUYS INC</td>\n",
              "      <td>1</td>\n",
              "      <td>0</td>\n",
              "      <td>0</td>\n",
              "      <td>0</td>\n",
              "      <td>51</td>\n",
              "      <td>CA</td>\n",
              "      <td>SAN MATEO</td>\n",
              "      <td>94402.0</td>\n",
              "      <td>NaN</td>\n",
              "      <td>NaN</td>\n",
              "      <td>NaN</td>\n",
              "      <td>NaN</td>\n",
              "      <td>NaN</td>\n",
              "      <td>NaN</td>\n",
              "    </tr>\n",
              "  </tbody>\n",
              "</table>\n",
              "</div>"
            ],
            "text/plain": [
              "     Fiscal Year  ... Overall Denial\n",
              "17          2014  ...            NaN\n",
              "32          2014  ...            NaN\n",
              "83          2014  ...            NaN\n",
              "88          2014  ...            NaN\n",
              "205         2014  ...            NaN\n",
              "\n",
              "[5 rows x 16 columns]"
            ]
          },
          "metadata": {
            "tags": []
          },
          "execution_count": 43
        }
      ]
    },
    {
      "cell_type": "code",
      "metadata": {
        "id": "61si_rw-pQ0E"
      },
      "source": [
        ""
      ],
      "execution_count": 56,
      "outputs": []
    },
    {
      "cell_type": "code",
      "metadata": {
        "colab": {
          "base_uri": "https://localhost:8080/",
          "height": 410
        },
        "id": "5Xrt3ZQ5pkDS",
        "outputId": "8366b142-991d-4f69-8a67-32364c3a7278"
      },
      "source": [
        "tech.head()"
      ],
      "execution_count": 45,
      "outputs": [
        {
          "output_type": "execute_result",
          "data": {
            "text/html": [
              "<div>\n",
              "<style scoped>\n",
              "    .dataframe tbody tr th:only-of-type {\n",
              "        vertical-align: middle;\n",
              "    }\n",
              "\n",
              "    .dataframe tbody tr th {\n",
              "        vertical-align: top;\n",
              "    }\n",
              "\n",
              "    .dataframe thead th {\n",
              "        text-align: right;\n",
              "    }\n",
              "</style>\n",
              "<table border=\"1\" class=\"dataframe\">\n",
              "  <thead>\n",
              "    <tr style=\"text-align: right;\">\n",
              "      <th></th>\n",
              "      <th>Fiscal Year</th>\n",
              "      <th>Employer</th>\n",
              "      <th>Initial Approvals</th>\n",
              "      <th>Initial Denials</th>\n",
              "      <th>Continuing Approvals</th>\n",
              "      <th>Continuing Denials</th>\n",
              "      <th>NAICS</th>\n",
              "      <th>State</th>\n",
              "      <th>City</th>\n",
              "      <th>ZIP</th>\n",
              "      <th>Initial Approval</th>\n",
              "      <th>Initial Denial</th>\n",
              "      <th>Continuing Approval</th>\n",
              "      <th>Continuing Denial</th>\n",
              "      <th>Overall Approval</th>\n",
              "      <th>Overall Denial</th>\n",
              "    </tr>\n",
              "  </thead>\n",
              "  <tbody>\n",
              "    <tr>\n",
              "      <th>17</th>\n",
              "      <td>2014</td>\n",
              "      <td>FJ PRODUCTIONS INC</td>\n",
              "      <td>1</td>\n",
              "      <td>0</td>\n",
              "      <td>0</td>\n",
              "      <td>0</td>\n",
              "      <td>51</td>\n",
              "      <td>CA</td>\n",
              "      <td>SHERMAN OAKS</td>\n",
              "      <td>91403.0</td>\n",
              "      <td>NaN</td>\n",
              "      <td>NaN</td>\n",
              "      <td>NaN</td>\n",
              "      <td>NaN</td>\n",
              "      <td>NaN</td>\n",
              "      <td>NaN</td>\n",
              "    </tr>\n",
              "    <tr>\n",
              "      <th>32</th>\n",
              "      <td>2014</td>\n",
              "      <td>VITACOM SERVICES CORPORATION</td>\n",
              "      <td>0</td>\n",
              "      <td>0</td>\n",
              "      <td>1</td>\n",
              "      <td>0</td>\n",
              "      <td>51</td>\n",
              "      <td>FL</td>\n",
              "      <td>MIAMI</td>\n",
              "      <td>33173.0</td>\n",
              "      <td>NaN</td>\n",
              "      <td>NaN</td>\n",
              "      <td>NaN</td>\n",
              "      <td>NaN</td>\n",
              "      <td>NaN</td>\n",
              "      <td>NaN</td>\n",
              "    </tr>\n",
              "    <tr>\n",
              "      <th>83</th>\n",
              "      <td>2014</td>\n",
              "      <td>COOL HAND LUKE PRODUCTIONS INC</td>\n",
              "      <td>1</td>\n",
              "      <td>0</td>\n",
              "      <td>0</td>\n",
              "      <td>0</td>\n",
              "      <td>51</td>\n",
              "      <td>NY</td>\n",
              "      <td>NEW YORK</td>\n",
              "      <td>10019.0</td>\n",
              "      <td>NaN</td>\n",
              "      <td>NaN</td>\n",
              "      <td>NaN</td>\n",
              "      <td>NaN</td>\n",
              "      <td>NaN</td>\n",
              "      <td>NaN</td>\n",
              "    </tr>\n",
              "    <tr>\n",
              "      <th>88</th>\n",
              "      <td>2014</td>\n",
              "      <td>THE E W SCRIPPS COMPANY</td>\n",
              "      <td>1</td>\n",
              "      <td>0</td>\n",
              "      <td>0</td>\n",
              "      <td>0</td>\n",
              "      <td>51</td>\n",
              "      <td>OH</td>\n",
              "      <td>CINCINNATI</td>\n",
              "      <td>45202.0</td>\n",
              "      <td>NaN</td>\n",
              "      <td>NaN</td>\n",
              "      <td>NaN</td>\n",
              "      <td>NaN</td>\n",
              "      <td>NaN</td>\n",
              "      <td>NaN</td>\n",
              "    </tr>\n",
              "    <tr>\n",
              "      <th>205</th>\n",
              "      <td>2014</td>\n",
              "      <td>MYBUYS INC</td>\n",
              "      <td>1</td>\n",
              "      <td>0</td>\n",
              "      <td>0</td>\n",
              "      <td>0</td>\n",
              "      <td>51</td>\n",
              "      <td>CA</td>\n",
              "      <td>SAN MATEO</td>\n",
              "      <td>94402.0</td>\n",
              "      <td>NaN</td>\n",
              "      <td>NaN</td>\n",
              "      <td>NaN</td>\n",
              "      <td>NaN</td>\n",
              "      <td>NaN</td>\n",
              "      <td>NaN</td>\n",
              "    </tr>\n",
              "  </tbody>\n",
              "</table>\n",
              "</div>"
            ],
            "text/plain": [
              "     Fiscal Year  ... Overall Denial\n",
              "17          2014  ...            NaN\n",
              "32          2014  ...            NaN\n",
              "83          2014  ...            NaN\n",
              "88          2014  ...            NaN\n",
              "205         2014  ...            NaN\n",
              "\n",
              "[5 rows x 16 columns]"
            ]
          },
          "metadata": {
            "tags": []
          },
          "execution_count": 45
        }
      ]
    },
    {
      "cell_type": "code",
      "metadata": {
        "colab": {
          "base_uri": "https://localhost:8080/"
        },
        "id": "G_nIkgvBp3yP",
        "outputId": "b1d24fba-c0bd-48dc-9782-377fb3d9b996"
      },
      "source": [
        "tech['Continuing Approvals'].isnull().value_counts()"
      ],
      "execution_count": 51,
      "outputs": [
        {
          "output_type": "execute_result",
          "data": {
            "text/plain": [
              "False    23594\n",
              "True      3200\n",
              "Name: Continuing Approvals, dtype: int64"
            ]
          },
          "metadata": {
            "tags": []
          },
          "execution_count": 51
        }
      ]
    },
    {
      "cell_type": "code",
      "metadata": {
        "colab": {
          "base_uri": "https://localhost:8080/"
        },
        "id": "pF2vMYlYsFFZ",
        "outputId": "d0b57258-6416-4df8-b770-77988369523c"
      },
      "source": [
        "tech['Continuing Approval'].isnull().value_counts()"
      ],
      "execution_count": 50,
      "outputs": [
        {
          "output_type": "execute_result",
          "data": {
            "text/plain": [
              "True     23594\n",
              "False     3200\n",
              "Name: Continuing Approval, dtype: int64"
            ]
          },
          "metadata": {
            "tags": []
          },
          "execution_count": 50
        }
      ]
    },
    {
      "cell_type": "code",
      "metadata": {
        "colab": {
          "base_uri": "https://localhost:8080/"
        },
        "id": "_YfOJbmQsPXK",
        "outputId": "1dd57451-3604-4d96-9a9f-714f1e6fd1ba"
      },
      "source": [
        "tech = tech.fillna(0)\n"
      ],
      "execution_count": 54,
      "outputs": [
        {
          "output_type": "execute_result",
          "data": {
            "text/plain": [
              "False    26794\n",
              "Name: Initial Approval, dtype: int64"
            ]
          },
          "metadata": {
            "tags": []
          },
          "execution_count": 54
        }
      ]
    },
    {
      "cell_type": "code",
      "metadata": {
        "colab": {
          "base_uri": "https://localhost:8080/"
        },
        "id": "BxGI4vvMsf-q",
        "outputId": "6088b849-fdcb-4682-b0b9-3b46ab07e652"
      },
      "source": [
        "tech.isnull().value_counts()"
      ],
      "execution_count": 55,
      "outputs": [
        {
          "output_type": "execute_result",
          "data": {
            "text/plain": [
              "Fiscal Year  Employer  Initial Approvals  Initial Denials  Continuing Approvals  Continuing Denials  NAICS  State  City   ZIP    Initial Approval  Initial Denial  Continuing Approval  Continuing Denial  Overall Approval  Overall Denial\n",
              "False        False     False              False            False                 False               False  False  False  False  False             False           False                False              False             False             26794\n",
              "dtype: int64"
            ]
          },
          "metadata": {
            "tags": []
          },
          "execution_count": 55
        }
      ]
    },
    {
      "cell_type": "code",
      "metadata": {
        "colab": {
          "base_uri": "https://localhost:8080/",
          "height": 410
        },
        "id": "mLF4RHz4spT_",
        "outputId": "dfd02afc-c28a-4649-c0ad-be871b0231e8"
      },
      "source": [
        "tech.head()"
      ],
      "execution_count": 56,
      "outputs": [
        {
          "output_type": "execute_result",
          "data": {
            "text/html": [
              "<div>\n",
              "<style scoped>\n",
              "    .dataframe tbody tr th:only-of-type {\n",
              "        vertical-align: middle;\n",
              "    }\n",
              "\n",
              "    .dataframe tbody tr th {\n",
              "        vertical-align: top;\n",
              "    }\n",
              "\n",
              "    .dataframe thead th {\n",
              "        text-align: right;\n",
              "    }\n",
              "</style>\n",
              "<table border=\"1\" class=\"dataframe\">\n",
              "  <thead>\n",
              "    <tr style=\"text-align: right;\">\n",
              "      <th></th>\n",
              "      <th>Fiscal Year</th>\n",
              "      <th>Employer</th>\n",
              "      <th>Initial Approvals</th>\n",
              "      <th>Initial Denials</th>\n",
              "      <th>Continuing Approvals</th>\n",
              "      <th>Continuing Denials</th>\n",
              "      <th>NAICS</th>\n",
              "      <th>State</th>\n",
              "      <th>City</th>\n",
              "      <th>ZIP</th>\n",
              "      <th>Initial Approval</th>\n",
              "      <th>Initial Denial</th>\n",
              "      <th>Continuing Approval</th>\n",
              "      <th>Continuing Denial</th>\n",
              "      <th>Overall Approval</th>\n",
              "      <th>Overall Denial</th>\n",
              "    </tr>\n",
              "  </thead>\n",
              "  <tbody>\n",
              "    <tr>\n",
              "      <th>17</th>\n",
              "      <td>2014</td>\n",
              "      <td>FJ PRODUCTIONS INC</td>\n",
              "      <td>1</td>\n",
              "      <td>0</td>\n",
              "      <td>0</td>\n",
              "      <td>0</td>\n",
              "      <td>51</td>\n",
              "      <td>CA</td>\n",
              "      <td>SHERMAN OAKS</td>\n",
              "      <td>91403.0</td>\n",
              "      <td>0.0</td>\n",
              "      <td>0.0</td>\n",
              "      <td>0.0</td>\n",
              "      <td>0.0</td>\n",
              "      <td>0</td>\n",
              "      <td>0</td>\n",
              "    </tr>\n",
              "    <tr>\n",
              "      <th>32</th>\n",
              "      <td>2014</td>\n",
              "      <td>VITACOM SERVICES CORPORATION</td>\n",
              "      <td>0</td>\n",
              "      <td>0</td>\n",
              "      <td>1</td>\n",
              "      <td>0</td>\n",
              "      <td>51</td>\n",
              "      <td>FL</td>\n",
              "      <td>MIAMI</td>\n",
              "      <td>33173.0</td>\n",
              "      <td>0.0</td>\n",
              "      <td>0.0</td>\n",
              "      <td>0.0</td>\n",
              "      <td>0.0</td>\n",
              "      <td>0</td>\n",
              "      <td>0</td>\n",
              "    </tr>\n",
              "    <tr>\n",
              "      <th>83</th>\n",
              "      <td>2014</td>\n",
              "      <td>COOL HAND LUKE PRODUCTIONS INC</td>\n",
              "      <td>1</td>\n",
              "      <td>0</td>\n",
              "      <td>0</td>\n",
              "      <td>0</td>\n",
              "      <td>51</td>\n",
              "      <td>NY</td>\n",
              "      <td>NEW YORK</td>\n",
              "      <td>10019.0</td>\n",
              "      <td>0.0</td>\n",
              "      <td>0.0</td>\n",
              "      <td>0.0</td>\n",
              "      <td>0.0</td>\n",
              "      <td>0</td>\n",
              "      <td>0</td>\n",
              "    </tr>\n",
              "    <tr>\n",
              "      <th>88</th>\n",
              "      <td>2014</td>\n",
              "      <td>THE E W SCRIPPS COMPANY</td>\n",
              "      <td>1</td>\n",
              "      <td>0</td>\n",
              "      <td>0</td>\n",
              "      <td>0</td>\n",
              "      <td>51</td>\n",
              "      <td>OH</td>\n",
              "      <td>CINCINNATI</td>\n",
              "      <td>45202.0</td>\n",
              "      <td>0.0</td>\n",
              "      <td>0.0</td>\n",
              "      <td>0.0</td>\n",
              "      <td>0.0</td>\n",
              "      <td>0</td>\n",
              "      <td>0</td>\n",
              "    </tr>\n",
              "    <tr>\n",
              "      <th>205</th>\n",
              "      <td>2014</td>\n",
              "      <td>MYBUYS INC</td>\n",
              "      <td>1</td>\n",
              "      <td>0</td>\n",
              "      <td>0</td>\n",
              "      <td>0</td>\n",
              "      <td>51</td>\n",
              "      <td>CA</td>\n",
              "      <td>SAN MATEO</td>\n",
              "      <td>94402.0</td>\n",
              "      <td>0.0</td>\n",
              "      <td>0.0</td>\n",
              "      <td>0.0</td>\n",
              "      <td>0.0</td>\n",
              "      <td>0</td>\n",
              "      <td>0</td>\n",
              "    </tr>\n",
              "  </tbody>\n",
              "</table>\n",
              "</div>"
            ],
            "text/plain": [
              "     Fiscal Year  ... Overall Denial\n",
              "17          2014  ...              0\n",
              "32          2014  ...              0\n",
              "83          2014  ...              0\n",
              "88          2014  ...              0\n",
              "205         2014  ...              0\n",
              "\n",
              "[5 rows x 16 columns]"
            ]
          },
          "metadata": {
            "tags": []
          },
          "execution_count": 56
        }
      ]
    },
    {
      "cell_type": "code",
      "metadata": {
        "id": "kNEtP0m8s3ir"
      },
      "source": [
        "# tech['Initial Approval'] = tech['Initial Approval'].astype('float64') \n",
        "# tech['Continuing Approval'] = tech['Continuing Approval'].astype('float64') \n",
        "# tech['Initial Denial'] = tech['Initial Denial'].astype('float64') \n",
        "# tech['Continuing Denial'] = tech['Continuing Denial'].astype('float64') \n",
        "# tech['Overall Approval'] = tech['Overall Approval'].astype('float64')\n",
        "# tech['Overall Denial'] = tech['Overall Denial'].astype('float64')"
      ],
      "execution_count": 96,
      "outputs": []
    },
    {
      "cell_type": "code",
      "metadata": {
        "id": "DtSTh2c8ut5y"
      },
      "source": [
        "# tech = tech.apply(pd.to_numeric, errors='ignore')"
      ],
      "execution_count": 67,
      "outputs": []
    },
    {
      "cell_type": "code",
      "metadata": {
        "colab": {
          "base_uri": "https://localhost:8080/",
          "height": 410
        },
        "id": "hqk9cFo2vUyY",
        "outputId": "40b154f3-175b-46fd-b008-972d22d2a2ea"
      },
      "source": [
        "tech.head()"
      ],
      "execution_count": 97,
      "outputs": [
        {
          "output_type": "execute_result",
          "data": {
            "text/html": [
              "<div>\n",
              "<style scoped>\n",
              "    .dataframe tbody tr th:only-of-type {\n",
              "        vertical-align: middle;\n",
              "    }\n",
              "\n",
              "    .dataframe tbody tr th {\n",
              "        vertical-align: top;\n",
              "    }\n",
              "\n",
              "    .dataframe thead th {\n",
              "        text-align: right;\n",
              "    }\n",
              "</style>\n",
              "<table border=\"1\" class=\"dataframe\">\n",
              "  <thead>\n",
              "    <tr style=\"text-align: right;\">\n",
              "      <th></th>\n",
              "      <th>Fiscal Year</th>\n",
              "      <th>Employer</th>\n",
              "      <th>Initial Approvals</th>\n",
              "      <th>Initial Denials</th>\n",
              "      <th>Continuing Approvals</th>\n",
              "      <th>Continuing Denials</th>\n",
              "      <th>NAICS</th>\n",
              "      <th>State</th>\n",
              "      <th>City</th>\n",
              "      <th>ZIP</th>\n",
              "      <th>Initial Approval</th>\n",
              "      <th>Initial Denial</th>\n",
              "      <th>Continuing Approval</th>\n",
              "      <th>Continuing Denial</th>\n",
              "      <th>Overall Approval</th>\n",
              "      <th>Overall Denial</th>\n",
              "    </tr>\n",
              "  </thead>\n",
              "  <tbody>\n",
              "    <tr>\n",
              "      <th>17</th>\n",
              "      <td>2014</td>\n",
              "      <td>FJ PRODUCTIONS INC</td>\n",
              "      <td>1</td>\n",
              "      <td>0</td>\n",
              "      <td>0</td>\n",
              "      <td>0</td>\n",
              "      <td>51</td>\n",
              "      <td>CA</td>\n",
              "      <td>SHERMAN OAKS</td>\n",
              "      <td>91403.0</td>\n",
              "      <td>0.0</td>\n",
              "      <td>0.0</td>\n",
              "      <td>0.0</td>\n",
              "      <td>0.0</td>\n",
              "      <td>0.0</td>\n",
              "      <td>0.0</td>\n",
              "    </tr>\n",
              "    <tr>\n",
              "      <th>32</th>\n",
              "      <td>2014</td>\n",
              "      <td>VITACOM SERVICES CORPORATION</td>\n",
              "      <td>0</td>\n",
              "      <td>0</td>\n",
              "      <td>1</td>\n",
              "      <td>0</td>\n",
              "      <td>51</td>\n",
              "      <td>FL</td>\n",
              "      <td>MIAMI</td>\n",
              "      <td>33173.0</td>\n",
              "      <td>0.0</td>\n",
              "      <td>0.0</td>\n",
              "      <td>0.0</td>\n",
              "      <td>0.0</td>\n",
              "      <td>0.0</td>\n",
              "      <td>0.0</td>\n",
              "    </tr>\n",
              "    <tr>\n",
              "      <th>83</th>\n",
              "      <td>2014</td>\n",
              "      <td>COOL HAND LUKE PRODUCTIONS INC</td>\n",
              "      <td>1</td>\n",
              "      <td>0</td>\n",
              "      <td>0</td>\n",
              "      <td>0</td>\n",
              "      <td>51</td>\n",
              "      <td>NY</td>\n",
              "      <td>NEW YORK</td>\n",
              "      <td>10019.0</td>\n",
              "      <td>0.0</td>\n",
              "      <td>0.0</td>\n",
              "      <td>0.0</td>\n",
              "      <td>0.0</td>\n",
              "      <td>0.0</td>\n",
              "      <td>0.0</td>\n",
              "    </tr>\n",
              "    <tr>\n",
              "      <th>88</th>\n",
              "      <td>2014</td>\n",
              "      <td>THE E W SCRIPPS COMPANY</td>\n",
              "      <td>1</td>\n",
              "      <td>0</td>\n",
              "      <td>0</td>\n",
              "      <td>0</td>\n",
              "      <td>51</td>\n",
              "      <td>OH</td>\n",
              "      <td>CINCINNATI</td>\n",
              "      <td>45202.0</td>\n",
              "      <td>0.0</td>\n",
              "      <td>0.0</td>\n",
              "      <td>0.0</td>\n",
              "      <td>0.0</td>\n",
              "      <td>0.0</td>\n",
              "      <td>0.0</td>\n",
              "    </tr>\n",
              "    <tr>\n",
              "      <th>205</th>\n",
              "      <td>2014</td>\n",
              "      <td>MYBUYS INC</td>\n",
              "      <td>1</td>\n",
              "      <td>0</td>\n",
              "      <td>0</td>\n",
              "      <td>0</td>\n",
              "      <td>51</td>\n",
              "      <td>CA</td>\n",
              "      <td>SAN MATEO</td>\n",
              "      <td>94402.0</td>\n",
              "      <td>0.0</td>\n",
              "      <td>0.0</td>\n",
              "      <td>0.0</td>\n",
              "      <td>0.0</td>\n",
              "      <td>0.0</td>\n",
              "      <td>0.0</td>\n",
              "    </tr>\n",
              "  </tbody>\n",
              "</table>\n",
              "</div>"
            ],
            "text/plain": [
              "     Fiscal Year  ... Overall Denial\n",
              "17          2014  ...            0.0\n",
              "32          2014  ...            0.0\n",
              "83          2014  ...            0.0\n",
              "88          2014  ...            0.0\n",
              "205         2014  ...            0.0\n",
              "\n",
              "[5 rows x 16 columns]"
            ]
          },
          "metadata": {
            "tags": []
          },
          "execution_count": 97
        }
      ]
    },
    {
      "cell_type": "code",
      "metadata": {
        "colab": {
          "base_uri": "https://localhost:8080/",
          "height": 778
        },
        "id": "QpSsIg96ssoU",
        "outputId": "4e635be6-3994-45da-e6eb-e2cde02c4904"
      },
      "source": [
        "tech.drop(['Overall Approval', 'Overall Denial'], axis=1)"
      ],
      "execution_count": 104,
      "outputs": [
        {
          "output_type": "execute_result",
          "data": {
            "text/html": [
              "<div>\n",
              "<style scoped>\n",
              "    .dataframe tbody tr th:only-of-type {\n",
              "        vertical-align: middle;\n",
              "    }\n",
              "\n",
              "    .dataframe tbody tr th {\n",
              "        vertical-align: top;\n",
              "    }\n",
              "\n",
              "    .dataframe thead th {\n",
              "        text-align: right;\n",
              "    }\n",
              "</style>\n",
              "<table border=\"1\" class=\"dataframe\">\n",
              "  <thead>\n",
              "    <tr style=\"text-align: right;\">\n",
              "      <th></th>\n",
              "      <th>Fiscal Year</th>\n",
              "      <th>Employer</th>\n",
              "      <th>Initial Approvals</th>\n",
              "      <th>Initial Denials</th>\n",
              "      <th>Continuing Approvals</th>\n",
              "      <th>Continuing Denials</th>\n",
              "      <th>NAICS</th>\n",
              "      <th>State</th>\n",
              "      <th>City</th>\n",
              "      <th>ZIP</th>\n",
              "      <th>Initial Approval</th>\n",
              "      <th>Initial Denial</th>\n",
              "      <th>Continuing Approval</th>\n",
              "      <th>Continuing Denial</th>\n",
              "    </tr>\n",
              "  </thead>\n",
              "  <tbody>\n",
              "    <tr>\n",
              "      <th>17</th>\n",
              "      <td>2014</td>\n",
              "      <td>FJ PRODUCTIONS INC</td>\n",
              "      <td>1</td>\n",
              "      <td>0</td>\n",
              "      <td>0</td>\n",
              "      <td>0</td>\n",
              "      <td>51</td>\n",
              "      <td>CA</td>\n",
              "      <td>SHERMAN OAKS</td>\n",
              "      <td>91403.0</td>\n",
              "      <td>0.0</td>\n",
              "      <td>0.0</td>\n",
              "      <td>0.0</td>\n",
              "      <td>0.0</td>\n",
              "    </tr>\n",
              "    <tr>\n",
              "      <th>32</th>\n",
              "      <td>2014</td>\n",
              "      <td>VITACOM SERVICES CORPORATION</td>\n",
              "      <td>0</td>\n",
              "      <td>0</td>\n",
              "      <td>1</td>\n",
              "      <td>0</td>\n",
              "      <td>51</td>\n",
              "      <td>FL</td>\n",
              "      <td>MIAMI</td>\n",
              "      <td>33173.0</td>\n",
              "      <td>0.0</td>\n",
              "      <td>0.0</td>\n",
              "      <td>0.0</td>\n",
              "      <td>0.0</td>\n",
              "    </tr>\n",
              "    <tr>\n",
              "      <th>83</th>\n",
              "      <td>2014</td>\n",
              "      <td>COOL HAND LUKE PRODUCTIONS INC</td>\n",
              "      <td>1</td>\n",
              "      <td>0</td>\n",
              "      <td>0</td>\n",
              "      <td>0</td>\n",
              "      <td>51</td>\n",
              "      <td>NY</td>\n",
              "      <td>NEW YORK</td>\n",
              "      <td>10019.0</td>\n",
              "      <td>0.0</td>\n",
              "      <td>0.0</td>\n",
              "      <td>0.0</td>\n",
              "      <td>0.0</td>\n",
              "    </tr>\n",
              "    <tr>\n",
              "      <th>88</th>\n",
              "      <td>2014</td>\n",
              "      <td>THE E W SCRIPPS COMPANY</td>\n",
              "      <td>1</td>\n",
              "      <td>0</td>\n",
              "      <td>0</td>\n",
              "      <td>0</td>\n",
              "      <td>51</td>\n",
              "      <td>OH</td>\n",
              "      <td>CINCINNATI</td>\n",
              "      <td>45202.0</td>\n",
              "      <td>0.0</td>\n",
              "      <td>0.0</td>\n",
              "      <td>0.0</td>\n",
              "      <td>0.0</td>\n",
              "    </tr>\n",
              "    <tr>\n",
              "      <th>205</th>\n",
              "      <td>2014</td>\n",
              "      <td>MYBUYS INC</td>\n",
              "      <td>1</td>\n",
              "      <td>0</td>\n",
              "      <td>0</td>\n",
              "      <td>0</td>\n",
              "      <td>51</td>\n",
              "      <td>CA</td>\n",
              "      <td>SAN MATEO</td>\n",
              "      <td>94402.0</td>\n",
              "      <td>0.0</td>\n",
              "      <td>0.0</td>\n",
              "      <td>0.0</td>\n",
              "      <td>0.0</td>\n",
              "    </tr>\n",
              "    <tr>\n",
              "      <th>...</th>\n",
              "      <td>...</td>\n",
              "      <td>...</td>\n",
              "      <td>...</td>\n",
              "      <td>...</td>\n",
              "      <td>...</td>\n",
              "      <td>...</td>\n",
              "      <td>...</td>\n",
              "      <td>...</td>\n",
              "      <td>...</td>\n",
              "      <td>...</td>\n",
              "      <td>...</td>\n",
              "      <td>...</td>\n",
              "      <td>...</td>\n",
              "      <td>...</td>\n",
              "    </tr>\n",
              "    <tr>\n",
              "      <th>59396</th>\n",
              "      <td>2019</td>\n",
              "      <td>WEVIDEO INC</td>\n",
              "      <td>0</td>\n",
              "      <td>0</td>\n",
              "      <td>1</td>\n",
              "      <td>0</td>\n",
              "      <td>51</td>\n",
              "      <td>CA</td>\n",
              "      <td>MOUNTAIN VIEW</td>\n",
              "      <td>94040.0</td>\n",
              "      <td>0.0</td>\n",
              "      <td>0.0</td>\n",
              "      <td>0.0</td>\n",
              "      <td>0.0</td>\n",
              "    </tr>\n",
              "    <tr>\n",
              "      <th>59413</th>\n",
              "      <td>2019</td>\n",
              "      <td>BRIGHTPEARL INC</td>\n",
              "      <td>0</td>\n",
              "      <td>0</td>\n",
              "      <td>1</td>\n",
              "      <td>0</td>\n",
              "      <td>51</td>\n",
              "      <td>TX</td>\n",
              "      <td>AUSTIN</td>\n",
              "      <td>78701.0</td>\n",
              "      <td>0.0</td>\n",
              "      <td>0.0</td>\n",
              "      <td>0.0</td>\n",
              "      <td>0.0</td>\n",
              "    </tr>\n",
              "    <tr>\n",
              "      <th>59421</th>\n",
              "      <td>2019</td>\n",
              "      <td>CAESAR HARDWARE INTERNATIONAL LIMI</td>\n",
              "      <td>1</td>\n",
              "      <td>0</td>\n",
              "      <td>0</td>\n",
              "      <td>0</td>\n",
              "      <td>51</td>\n",
              "      <td>CA</td>\n",
              "      <td>CITY OF INDUSTRY</td>\n",
              "      <td>91748.0</td>\n",
              "      <td>0.0</td>\n",
              "      <td>0.0</td>\n",
              "      <td>0.0</td>\n",
              "      <td>0.0</td>\n",
              "    </tr>\n",
              "    <tr>\n",
              "      <th>59423</th>\n",
              "      <td>2019</td>\n",
              "      <td>CAESAR HARDWARE INTERNATIONAL LIMI</td>\n",
              "      <td>1</td>\n",
              "      <td>0</td>\n",
              "      <td>0</td>\n",
              "      <td>0</td>\n",
              "      <td>51</td>\n",
              "      <td>CA</td>\n",
              "      <td>ROWLAND HEIGHTS</td>\n",
              "      <td>91748.0</td>\n",
              "      <td>0.0</td>\n",
              "      <td>0.0</td>\n",
              "      <td>0.0</td>\n",
              "      <td>0.0</td>\n",
              "    </tr>\n",
              "    <tr>\n",
              "      <th>59440</th>\n",
              "      <td>2019</td>\n",
              "      <td>BYTEDANCE INC</td>\n",
              "      <td>0</td>\n",
              "      <td>0</td>\n",
              "      <td>1</td>\n",
              "      <td>0</td>\n",
              "      <td>51</td>\n",
              "      <td>CA</td>\n",
              "      <td>MENLO PARK</td>\n",
              "      <td>94025.0</td>\n",
              "      <td>0.0</td>\n",
              "      <td>0.0</td>\n",
              "      <td>0.0</td>\n",
              "      <td>0.0</td>\n",
              "    </tr>\n",
              "  </tbody>\n",
              "</table>\n",
              "<p>26794 rows × 14 columns</p>\n",
              "</div>"
            ],
            "text/plain": [
              "       Fiscal Year  ... Continuing Denial\n",
              "17            2014  ...               0.0\n",
              "32            2014  ...               0.0\n",
              "83            2014  ...               0.0\n",
              "88            2014  ...               0.0\n",
              "205           2014  ...               0.0\n",
              "...            ...  ...               ...\n",
              "59396         2019  ...               0.0\n",
              "59413         2019  ...               0.0\n",
              "59421         2019  ...               0.0\n",
              "59423         2019  ...               0.0\n",
              "59440         2019  ...               0.0\n",
              "\n",
              "[26794 rows x 14 columns]"
            ]
          },
          "metadata": {
            "tags": []
          },
          "execution_count": 104
        }
      ]
    },
    {
      "cell_type": "code",
      "metadata": {
        "id": "3lR4iugtsz0o"
      },
      "source": [
        "tech['Overall Approval'] = tech['Initial Approval'] + tech['Continuing Approval']"
      ],
      "execution_count": 105,
      "outputs": []
    },
    {
      "cell_type": "code",
      "metadata": {
        "colab": {
          "base_uri": "https://localhost:8080/",
          "height": 410
        },
        "id": "0YiRJdA7ymBN",
        "outputId": "cd11eaaa-dd05-4dc6-f007-92c946d3643b"
      },
      "source": [
        "tech.head()"
      ],
      "execution_count": 106,
      "outputs": [
        {
          "output_type": "execute_result",
          "data": {
            "text/html": [
              "<div>\n",
              "<style scoped>\n",
              "    .dataframe tbody tr th:only-of-type {\n",
              "        vertical-align: middle;\n",
              "    }\n",
              "\n",
              "    .dataframe tbody tr th {\n",
              "        vertical-align: top;\n",
              "    }\n",
              "\n",
              "    .dataframe thead th {\n",
              "        text-align: right;\n",
              "    }\n",
              "</style>\n",
              "<table border=\"1\" class=\"dataframe\">\n",
              "  <thead>\n",
              "    <tr style=\"text-align: right;\">\n",
              "      <th></th>\n",
              "      <th>Fiscal Year</th>\n",
              "      <th>Employer</th>\n",
              "      <th>Initial Approvals</th>\n",
              "      <th>Initial Denials</th>\n",
              "      <th>Continuing Approvals</th>\n",
              "      <th>Continuing Denials</th>\n",
              "      <th>NAICS</th>\n",
              "      <th>State</th>\n",
              "      <th>City</th>\n",
              "      <th>ZIP</th>\n",
              "      <th>Initial Approval</th>\n",
              "      <th>Initial Denial</th>\n",
              "      <th>Continuing Approval</th>\n",
              "      <th>Continuing Denial</th>\n",
              "      <th>Overall Approval</th>\n",
              "      <th>Overall Denial</th>\n",
              "    </tr>\n",
              "  </thead>\n",
              "  <tbody>\n",
              "    <tr>\n",
              "      <th>17</th>\n",
              "      <td>2014</td>\n",
              "      <td>FJ PRODUCTIONS INC</td>\n",
              "      <td>1</td>\n",
              "      <td>0</td>\n",
              "      <td>0</td>\n",
              "      <td>0</td>\n",
              "      <td>51</td>\n",
              "      <td>CA</td>\n",
              "      <td>SHERMAN OAKS</td>\n",
              "      <td>91403.0</td>\n",
              "      <td>0.0</td>\n",
              "      <td>0.0</td>\n",
              "      <td>0.0</td>\n",
              "      <td>0.0</td>\n",
              "      <td>0.0</td>\n",
              "      <td>0.0</td>\n",
              "    </tr>\n",
              "    <tr>\n",
              "      <th>32</th>\n",
              "      <td>2014</td>\n",
              "      <td>VITACOM SERVICES CORPORATION</td>\n",
              "      <td>0</td>\n",
              "      <td>0</td>\n",
              "      <td>1</td>\n",
              "      <td>0</td>\n",
              "      <td>51</td>\n",
              "      <td>FL</td>\n",
              "      <td>MIAMI</td>\n",
              "      <td>33173.0</td>\n",
              "      <td>0.0</td>\n",
              "      <td>0.0</td>\n",
              "      <td>0.0</td>\n",
              "      <td>0.0</td>\n",
              "      <td>0.0</td>\n",
              "      <td>0.0</td>\n",
              "    </tr>\n",
              "    <tr>\n",
              "      <th>83</th>\n",
              "      <td>2014</td>\n",
              "      <td>COOL HAND LUKE PRODUCTIONS INC</td>\n",
              "      <td>1</td>\n",
              "      <td>0</td>\n",
              "      <td>0</td>\n",
              "      <td>0</td>\n",
              "      <td>51</td>\n",
              "      <td>NY</td>\n",
              "      <td>NEW YORK</td>\n",
              "      <td>10019.0</td>\n",
              "      <td>0.0</td>\n",
              "      <td>0.0</td>\n",
              "      <td>0.0</td>\n",
              "      <td>0.0</td>\n",
              "      <td>0.0</td>\n",
              "      <td>0.0</td>\n",
              "    </tr>\n",
              "    <tr>\n",
              "      <th>88</th>\n",
              "      <td>2014</td>\n",
              "      <td>THE E W SCRIPPS COMPANY</td>\n",
              "      <td>1</td>\n",
              "      <td>0</td>\n",
              "      <td>0</td>\n",
              "      <td>0</td>\n",
              "      <td>51</td>\n",
              "      <td>OH</td>\n",
              "      <td>CINCINNATI</td>\n",
              "      <td>45202.0</td>\n",
              "      <td>0.0</td>\n",
              "      <td>0.0</td>\n",
              "      <td>0.0</td>\n",
              "      <td>0.0</td>\n",
              "      <td>0.0</td>\n",
              "      <td>0.0</td>\n",
              "    </tr>\n",
              "    <tr>\n",
              "      <th>205</th>\n",
              "      <td>2014</td>\n",
              "      <td>MYBUYS INC</td>\n",
              "      <td>1</td>\n",
              "      <td>0</td>\n",
              "      <td>0</td>\n",
              "      <td>0</td>\n",
              "      <td>51</td>\n",
              "      <td>CA</td>\n",
              "      <td>SAN MATEO</td>\n",
              "      <td>94402.0</td>\n",
              "      <td>0.0</td>\n",
              "      <td>0.0</td>\n",
              "      <td>0.0</td>\n",
              "      <td>0.0</td>\n",
              "      <td>0.0</td>\n",
              "      <td>0.0</td>\n",
              "    </tr>\n",
              "  </tbody>\n",
              "</table>\n",
              "</div>"
            ],
            "text/plain": [
              "     Fiscal Year  ... Overall Denial\n",
              "17          2014  ...            0.0\n",
              "32          2014  ...            0.0\n",
              "83          2014  ...            0.0\n",
              "88          2014  ...            0.0\n",
              "205         2014  ...            0.0\n",
              "\n",
              "[5 rows x 16 columns]"
            ]
          },
          "metadata": {
            "tags": []
          },
          "execution_count": 106
        }
      ]
    },
    {
      "cell_type": "code",
      "metadata": {
        "id": "pq-zIK6Jy2tz"
      },
      "source": [
        "tech['Initial Approvals'] = pd.to_numeric(tech['Initial Approvals'], errors='coerce')\n",
        "tech['Continuing Approvals'] = pd.to_numeric(tech['Continuing Approvals'], errors='coerce')\n",
        "tech['Initial Denials'] = pd.to_numeric(tech['Initial Denials'], errors='coerce')\n",
        "tech['Continuing Denials'] = pd.to_numeric(tech['Continuing Denials'], errors='coerce')"
      ],
      "execution_count": 136,
      "outputs": []
    },
    {
      "cell_type": "code",
      "metadata": {
        "id": "JfywT2GFy_yn"
      },
      "source": [
        "tech['Overall Approval'] = tech['Initial Approval'] + tech['Continuing Approval'] + tech['Initial Approvals'] + tech['Continuing Approvals']"
      ],
      "execution_count": 137,
      "outputs": []
    },
    {
      "cell_type": "code",
      "metadata": {
        "colab": {
          "base_uri": "https://localhost:8080/",
          "height": 410
        },
        "id": "i6N97tZy0x1A",
        "outputId": "a92ceb65-ac9d-4d0b-f0bf-ca91284540c2"
      },
      "source": [
        "tech.head()"
      ],
      "execution_count": 138,
      "outputs": [
        {
          "output_type": "execute_result",
          "data": {
            "text/html": [
              "<div>\n",
              "<style scoped>\n",
              "    .dataframe tbody tr th:only-of-type {\n",
              "        vertical-align: middle;\n",
              "    }\n",
              "\n",
              "    .dataframe tbody tr th {\n",
              "        vertical-align: top;\n",
              "    }\n",
              "\n",
              "    .dataframe thead th {\n",
              "        text-align: right;\n",
              "    }\n",
              "</style>\n",
              "<table border=\"1\" class=\"dataframe\">\n",
              "  <thead>\n",
              "    <tr style=\"text-align: right;\">\n",
              "      <th></th>\n",
              "      <th>Fiscal Year</th>\n",
              "      <th>Employer</th>\n",
              "      <th>Initial Approvals</th>\n",
              "      <th>Initial Denials</th>\n",
              "      <th>Continuing Approvals</th>\n",
              "      <th>Continuing Denials</th>\n",
              "      <th>NAICS</th>\n",
              "      <th>State</th>\n",
              "      <th>City</th>\n",
              "      <th>ZIP</th>\n",
              "      <th>Initial Approval</th>\n",
              "      <th>Initial Denial</th>\n",
              "      <th>Continuing Approval</th>\n",
              "      <th>Continuing Denial</th>\n",
              "      <th>Overall Approval</th>\n",
              "      <th>Overall Denial</th>\n",
              "    </tr>\n",
              "  </thead>\n",
              "  <tbody>\n",
              "    <tr>\n",
              "      <th>17</th>\n",
              "      <td>2014</td>\n",
              "      <td>FJ PRODUCTIONS INC</td>\n",
              "      <td>1.0</td>\n",
              "      <td>0</td>\n",
              "      <td>0.0</td>\n",
              "      <td>0</td>\n",
              "      <td>51</td>\n",
              "      <td>CA</td>\n",
              "      <td>SHERMAN OAKS</td>\n",
              "      <td>91403.0</td>\n",
              "      <td>0</td>\n",
              "      <td>0</td>\n",
              "      <td>0</td>\n",
              "      <td>0</td>\n",
              "      <td>1.0</td>\n",
              "      <td>0.0</td>\n",
              "    </tr>\n",
              "    <tr>\n",
              "      <th>32</th>\n",
              "      <td>2014</td>\n",
              "      <td>VITACOM SERVICES CORPORATION</td>\n",
              "      <td>0.0</td>\n",
              "      <td>0</td>\n",
              "      <td>1.0</td>\n",
              "      <td>0</td>\n",
              "      <td>51</td>\n",
              "      <td>FL</td>\n",
              "      <td>MIAMI</td>\n",
              "      <td>33173.0</td>\n",
              "      <td>0</td>\n",
              "      <td>0</td>\n",
              "      <td>0</td>\n",
              "      <td>0</td>\n",
              "      <td>1.0</td>\n",
              "      <td>0.0</td>\n",
              "    </tr>\n",
              "    <tr>\n",
              "      <th>83</th>\n",
              "      <td>2014</td>\n",
              "      <td>COOL HAND LUKE PRODUCTIONS INC</td>\n",
              "      <td>1.0</td>\n",
              "      <td>0</td>\n",
              "      <td>0.0</td>\n",
              "      <td>0</td>\n",
              "      <td>51</td>\n",
              "      <td>NY</td>\n",
              "      <td>NEW YORK</td>\n",
              "      <td>10019.0</td>\n",
              "      <td>0</td>\n",
              "      <td>0</td>\n",
              "      <td>0</td>\n",
              "      <td>0</td>\n",
              "      <td>1.0</td>\n",
              "      <td>0.0</td>\n",
              "    </tr>\n",
              "    <tr>\n",
              "      <th>88</th>\n",
              "      <td>2014</td>\n",
              "      <td>THE E W SCRIPPS COMPANY</td>\n",
              "      <td>1.0</td>\n",
              "      <td>0</td>\n",
              "      <td>0.0</td>\n",
              "      <td>0</td>\n",
              "      <td>51</td>\n",
              "      <td>OH</td>\n",
              "      <td>CINCINNATI</td>\n",
              "      <td>45202.0</td>\n",
              "      <td>0</td>\n",
              "      <td>0</td>\n",
              "      <td>0</td>\n",
              "      <td>0</td>\n",
              "      <td>1.0</td>\n",
              "      <td>0.0</td>\n",
              "    </tr>\n",
              "    <tr>\n",
              "      <th>205</th>\n",
              "      <td>2014</td>\n",
              "      <td>MYBUYS INC</td>\n",
              "      <td>1.0</td>\n",
              "      <td>0</td>\n",
              "      <td>0.0</td>\n",
              "      <td>0</td>\n",
              "      <td>51</td>\n",
              "      <td>CA</td>\n",
              "      <td>SAN MATEO</td>\n",
              "      <td>94402.0</td>\n",
              "      <td>0</td>\n",
              "      <td>0</td>\n",
              "      <td>0</td>\n",
              "      <td>0</td>\n",
              "      <td>1.0</td>\n",
              "      <td>0.0</td>\n",
              "    </tr>\n",
              "  </tbody>\n",
              "</table>\n",
              "</div>"
            ],
            "text/plain": [
              "     Fiscal Year  ... Overall Denial\n",
              "17          2014  ...            0.0\n",
              "32          2014  ...            0.0\n",
              "83          2014  ...            0.0\n",
              "88          2014  ...            0.0\n",
              "205         2014  ...            0.0\n",
              "\n",
              "[5 rows x 16 columns]"
            ]
          },
          "metadata": {
            "tags": []
          },
          "execution_count": 138
        }
      ]
    },
    {
      "cell_type": "code",
      "metadata": {
        "id": "JG9_r0Gl00Pk"
      },
      "source": [
        "tech = tech.drop(['Initial Approval', 'Initial Approvals', 'Continuing Approval', 'Continuing Approvals', 'Initial Denial',\n",
        "           'Initial Denials', 'Continuing Denial', 'Continuing Denials', 'Overall Denial'], axis=1)"
      ],
      "execution_count": 142,
      "outputs": []
    },
    {
      "cell_type": "code",
      "metadata": {
        "colab": {
          "base_uri": "https://localhost:8080/",
          "height": 203
        },
        "id": "8A-bHboH1vbW",
        "outputId": "4ae87a6c-3fc9-407a-8555-89e70d70a35f"
      },
      "source": [
        "tech.head()"
      ],
      "execution_count": 143,
      "outputs": [
        {
          "output_type": "execute_result",
          "data": {
            "text/html": [
              "<div>\n",
              "<style scoped>\n",
              "    .dataframe tbody tr th:only-of-type {\n",
              "        vertical-align: middle;\n",
              "    }\n",
              "\n",
              "    .dataframe tbody tr th {\n",
              "        vertical-align: top;\n",
              "    }\n",
              "\n",
              "    .dataframe thead th {\n",
              "        text-align: right;\n",
              "    }\n",
              "</style>\n",
              "<table border=\"1\" class=\"dataframe\">\n",
              "  <thead>\n",
              "    <tr style=\"text-align: right;\">\n",
              "      <th></th>\n",
              "      <th>Fiscal Year</th>\n",
              "      <th>Employer</th>\n",
              "      <th>NAICS</th>\n",
              "      <th>State</th>\n",
              "      <th>City</th>\n",
              "      <th>ZIP</th>\n",
              "      <th>Overall Approval</th>\n",
              "    </tr>\n",
              "  </thead>\n",
              "  <tbody>\n",
              "    <tr>\n",
              "      <th>17</th>\n",
              "      <td>2014</td>\n",
              "      <td>FJ PRODUCTIONS INC</td>\n",
              "      <td>51</td>\n",
              "      <td>CA</td>\n",
              "      <td>SHERMAN OAKS</td>\n",
              "      <td>91403.0</td>\n",
              "      <td>1.0</td>\n",
              "    </tr>\n",
              "    <tr>\n",
              "      <th>32</th>\n",
              "      <td>2014</td>\n",
              "      <td>VITACOM SERVICES CORPORATION</td>\n",
              "      <td>51</td>\n",
              "      <td>FL</td>\n",
              "      <td>MIAMI</td>\n",
              "      <td>33173.0</td>\n",
              "      <td>1.0</td>\n",
              "    </tr>\n",
              "    <tr>\n",
              "      <th>83</th>\n",
              "      <td>2014</td>\n",
              "      <td>COOL HAND LUKE PRODUCTIONS INC</td>\n",
              "      <td>51</td>\n",
              "      <td>NY</td>\n",
              "      <td>NEW YORK</td>\n",
              "      <td>10019.0</td>\n",
              "      <td>1.0</td>\n",
              "    </tr>\n",
              "    <tr>\n",
              "      <th>88</th>\n",
              "      <td>2014</td>\n",
              "      <td>THE E W SCRIPPS COMPANY</td>\n",
              "      <td>51</td>\n",
              "      <td>OH</td>\n",
              "      <td>CINCINNATI</td>\n",
              "      <td>45202.0</td>\n",
              "      <td>1.0</td>\n",
              "    </tr>\n",
              "    <tr>\n",
              "      <th>205</th>\n",
              "      <td>2014</td>\n",
              "      <td>MYBUYS INC</td>\n",
              "      <td>51</td>\n",
              "      <td>CA</td>\n",
              "      <td>SAN MATEO</td>\n",
              "      <td>94402.0</td>\n",
              "      <td>1.0</td>\n",
              "    </tr>\n",
              "  </tbody>\n",
              "</table>\n",
              "</div>"
            ],
            "text/plain": [
              "     Fiscal Year                        Employer  ...      ZIP Overall Approval\n",
              "17          2014              FJ PRODUCTIONS INC  ...  91403.0              1.0\n",
              "32          2014    VITACOM SERVICES CORPORATION  ...  33173.0              1.0\n",
              "83          2014  COOL HAND LUKE PRODUCTIONS INC  ...  10019.0              1.0\n",
              "88          2014         THE E W SCRIPPS COMPANY  ...  45202.0              1.0\n",
              "205         2014                      MYBUYS INC  ...  94402.0              1.0\n",
              "\n",
              "[5 rows x 7 columns]"
            ]
          },
          "metadata": {
            "tags": []
          },
          "execution_count": 143
        }
      ]
    },
    {
      "cell_type": "code",
      "metadata": {
        "colab": {
          "base_uri": "https://localhost:8080/"
        },
        "id": "Yr-fWTHy3WiC",
        "outputId": "7ba4dab9-dc9b-473b-b03a-e2b2473031ce"
      },
      "source": [
        "tech['Fiscal Year'].value_counts()"
      ],
      "execution_count": 145,
      "outputs": [
        {
          "output_type": "execute_result",
          "data": {
            "text/plain": [
              "2019    3391\n",
              "2020    3200\n",
              "2018    3200\n",
              "2016    2799\n",
              "2014    2638\n",
              "2017    2599\n",
              "2015    2559\n",
              "2013    2180\n",
              "2012    2127\n",
              "2011    2101\n",
              "Name: Fiscal Year, dtype: int64"
            ]
          },
          "metadata": {
            "tags": []
          },
          "execution_count": 145
        }
      ]
    },
    {
      "cell_type": "code",
      "metadata": {
        "id": "tJZHu3YR3oGH"
      },
      "source": [
        "tech_state = tech.groupby('State')\n",
        "approval_by_state = tech_state['Overall Approval'].sum().sort_values(ascending=False).reset_index()"
      ],
      "execution_count": 148,
      "outputs": []
    },
    {
      "cell_type": "code",
      "metadata": {
        "colab": {
          "base_uri": "https://localhost:8080/",
          "height": 480
        },
        "id": "_0vc0Cpu4D9o",
        "outputId": "12f4f49f-05c1-4441-95a8-823970643255"
      },
      "source": [
        "plt.figure(figsize=(12,6))\n",
        "\n",
        "ax = sns.barplot(data=approval_by_state, x='State', y='Overall Approval')\n",
        "plt.xlabel('State')\n",
        "plt.ylabel('Number of Approvals')\n",
        "plt.title('Number of H1BC Approvals by State from 2011 - 2020')\n",
        "plt.xticks(rotation=90)"
      ],
      "execution_count": 177,
      "outputs": [
        {
          "output_type": "execute_result",
          "data": {
            "text/plain": [
              "(array([ 0,  1,  2,  3,  4,  5,  6,  7,  8,  9, 10, 11, 12, 13, 14, 15, 16,\n",
              "        17, 18, 19, 20, 21, 22, 23, 24, 25, 26, 27, 28, 29, 30, 31, 32, 33,\n",
              "        34, 35, 36, 37, 38, 39, 40, 41, 42, 43, 44, 45, 46, 47, 48, 49, 50,\n",
              "        51, 52, 53, 54]), <a list of 55 Text major ticklabel objects>)"
            ]
          },
          "metadata": {
            "tags": []
          },
          "execution_count": 177
        },
        {
          "output_type": "display_data",
          "data": {
            "image/png": "[encoded data removed]",
            "text/plain": [
              "<Figure size 864x432 with 1 Axes>"
            ]
          },
          "metadata": {
            "tags": [],
            "needs_background": "light"
          }
        }
      ]
    },
    {
      "cell_type": "code",
      "metadata": {
        "id": "b8kyrRIz4lTO"
      },
      "source": [
        "tech_top3 = tech[tech['State'] == 'CA']\n",
        "tech_top2 = tech[tech['State'] == 'WA']\n",
        "tech_top1 = tech[tech['State'] == 'NY']"
      ],
      "execution_count": 152,
      "outputs": []
    },
    {
      "cell_type": "code",
      "metadata": {
        "id": "wS3DEQF45JCh"
      },
      "source": [
        "tech_top3_state = pd.concat([tech_top1, tech_top3, tech_top2])"
      ],
      "execution_count": 153,
      "outputs": []
    },
    {
      "cell_type": "code",
      "metadata": {
        "colab": {
          "base_uri": "https://localhost:8080/",
          "height": 203
        },
        "id": "uYHaquBu5aZj",
        "outputId": "93ecd097-be49-4af1-a1e4-62ebeb551178"
      },
      "source": [
        "tech_top3_state.head()"
      ],
      "execution_count": 154,
      "outputs": [
        {
          "output_type": "execute_result",
          "data": {
            "text/html": [
              "<div>\n",
              "<style scoped>\n",
              "    .dataframe tbody tr th:only-of-type {\n",
              "        vertical-align: middle;\n",
              "    }\n",
              "\n",
              "    .dataframe tbody tr th {\n",
              "        vertical-align: top;\n",
              "    }\n",
              "\n",
              "    .dataframe thead th {\n",
              "        text-align: right;\n",
              "    }\n",
              "</style>\n",
              "<table border=\"1\" class=\"dataframe\">\n",
              "  <thead>\n",
              "    <tr style=\"text-align: right;\">\n",
              "      <th></th>\n",
              "      <th>Fiscal Year</th>\n",
              "      <th>Employer</th>\n",
              "      <th>NAICS</th>\n",
              "      <th>State</th>\n",
              "      <th>City</th>\n",
              "      <th>ZIP</th>\n",
              "      <th>Overall Approval</th>\n",
              "    </tr>\n",
              "  </thead>\n",
              "  <tbody>\n",
              "    <tr>\n",
              "      <th>83</th>\n",
              "      <td>2014</td>\n",
              "      <td>COOL HAND LUKE PRODUCTIONS INC</td>\n",
              "      <td>51</td>\n",
              "      <td>NY</td>\n",
              "      <td>NEW YORK</td>\n",
              "      <td>10019.0</td>\n",
              "      <td>1.0</td>\n",
              "    </tr>\n",
              "    <tr>\n",
              "      <th>222</th>\n",
              "      <td>2014</td>\n",
              "      <td>WOMENS ENEWS</td>\n",
              "      <td>51</td>\n",
              "      <td>NY</td>\n",
              "      <td>NEW YORK</td>\n",
              "      <td>10007.0</td>\n",
              "      <td>1.0</td>\n",
              "    </tr>\n",
              "    <tr>\n",
              "      <th>656</th>\n",
              "      <td>2014</td>\n",
              "      <td>HEART MEDIA MANAGEMENT SVCS</td>\n",
              "      <td>51</td>\n",
              "      <td>NY</td>\n",
              "      <td>NEW YORK</td>\n",
              "      <td>10019.0</td>\n",
              "      <td>1.0</td>\n",
              "    </tr>\n",
              "    <tr>\n",
              "      <th>725</th>\n",
              "      <td>2014</td>\n",
              "      <td>DAILY WORLD PRESS INC</td>\n",
              "      <td>51</td>\n",
              "      <td>NY</td>\n",
              "      <td>NEW YORK</td>\n",
              "      <td>10017.0</td>\n",
              "      <td>0.0</td>\n",
              "    </tr>\n",
              "    <tr>\n",
              "      <th>1294</th>\n",
              "      <td>2014</td>\n",
              "      <td>SPRINGER SCIENCE BUS MEDIA LLC</td>\n",
              "      <td>51</td>\n",
              "      <td>NY</td>\n",
              "      <td>NEW YORK</td>\n",
              "      <td>10013.0</td>\n",
              "      <td>1.0</td>\n",
              "    </tr>\n",
              "  </tbody>\n",
              "</table>\n",
              "</div>"
            ],
            "text/plain": [
              "      Fiscal Year                        Employer  ...      ZIP Overall Approval\n",
              "83           2014  COOL HAND LUKE PRODUCTIONS INC  ...  10019.0              1.0\n",
              "222          2014                    WOMENS ENEWS  ...  10007.0              1.0\n",
              "656          2014     HEART MEDIA MANAGEMENT SVCS  ...  10019.0              1.0\n",
              "725          2014           DAILY WORLD PRESS INC  ...  10017.0              0.0\n",
              "1294         2014  SPRINGER SCIENCE BUS MEDIA LLC  ...  10013.0              1.0\n",
              "\n",
              "[5 rows x 7 columns]"
            ]
          },
          "metadata": {
            "tags": []
          },
          "execution_count": 154
        }
      ]
    },
    {
      "cell_type": "code",
      "metadata": {
        "colab": {
          "base_uri": "https://localhost:8080/"
        },
        "id": "ln_vP-0b5cos",
        "outputId": "afc9c687-7a06-46d8-b1de-1494b1487c09"
      },
      "source": [
        "tech_top3_state['State'].value_counts()"
      ],
      "execution_count": 156,
      "outputs": [
        {
          "output_type": "execute_result",
          "data": {
            "text/plain": [
              "CA    10518\n",
              "NY     3354\n",
              "WA      807\n",
              "Name: State, dtype: int64"
            ]
          },
          "metadata": {
            "tags": []
          },
          "execution_count": 156
        }
      ]
    },
    {
      "cell_type": "code",
      "metadata": {
        "id": "W_ALetD65fvN"
      },
      "source": [
        "tech_cities = tech_top3_state.groupby('City')\n",
        "approval_by_city = tech_cities['Overall Approval'].sum().sort_values(ascending=False).head(20).reset_index()"
      ],
      "execution_count": 159,
      "outputs": []
    },
    {
      "cell_type": "code",
      "metadata": {
        "colab": {
          "base_uri": "https://localhost:8080/",
          "height": 527
        },
        "id": "epRc4joo53Aa",
        "outputId": "bcaf19be-1ca4-4a83-b585-df5dc7cc1a68"
      },
      "source": [
        "plt.figure(figsize=(12,6))\n",
        "\n",
        "ax = sns.barplot(data=approval_by_city, x='City', y='Overall Approval')\n",
        "plt.xlabel('City')\n",
        "plt.ylabel('Number of Approvals')\n",
        "plt.title('Number of H1BC Approvals by City from 2011 - 2020')\n",
        "plt.xticks(rotation=90)"
      ],
      "execution_count": 176,
      "outputs": [
        {
          "output_type": "execute_result",
          "data": {
            "text/plain": [
              "(array([ 0,  1,  2,  3,  4,  5,  6,  7,  8,  9, 10, 11, 12, 13, 14, 15, 16,\n",
              "        17, 18, 19]), <a list of 20 Text major ticklabel objects>)"
            ]
          },
          "metadata": {
            "tags": []
          },
          "execution_count": 176
        },
        {
          "output_type": "display_data",
          "data": {
            "image/png": "[encoded data removed]",
            "text/plain": [
              "<Figure size 864x432 with 1 Axes>"
            ]
          },
          "metadata": {
            "tags": [],
            "needs_background": "light"
          }
        }
      ]
    },
    {
      "cell_type": "code",
      "metadata": {
        "id": "UkwhMafe59rD"
      },
      "source": [
        "tech_top10_city_1 = tech_top3_state[tech_top3_state['City'] == 'SAN FRANCISCO']\n",
        "tech_top10_city_2 = tech_top3_state[tech_top3_state['City'] == 'MOUNTAIN VIEW']\n",
        "tech_top10_city_3 = tech_top3_state[tech_top3_state['City'] == 'BELLEVUE']\n",
        "tech_top10_city_4 = tech_top3_state[tech_top3_state['City'] == 'SEATTLE']\n",
        "tech_top10_city_5 = tech_top3_state[tech_top3_state['City'] == 'REDWOOD SHORES']\n",
        "tech_top10_city_6 = tech_top3_state[tech_top3_state['City'] == 'REDWOOD CITY']\n",
        "tech_top10_city_7 = tech_top3_state[tech_top3_state['City'] == 'MENLO PARK']\n",
        "tech_top10_city_8 = tech_top3_state[tech_top3_state['City'] == 'SUNNYVALE']\n",
        "tech_top10_city_9 = tech_top3_state[tech_top3_state['City'] == 'REDMOND']\n",
        "tech_top10_city_0 = tech_top3_state[tech_top3_state['City'] == 'NEW YORK']"
      ],
      "execution_count": 165,
      "outputs": []
    },
    {
      "cell_type": "code",
      "metadata": {
        "id": "Zl5-93Pg6sL_"
      },
      "source": [
        "tech_top10_city = pd.concat([tech_top10_city_0, tech_top10_city_1, tech_top10_city_2, tech_top10_city_3, tech_top10_city_4, tech_top10_city_5, tech_top10_city_6, tech_top10_city_7, tech_top10_city_8, tech_top10_city_9])"
      ],
      "execution_count": 166,
      "outputs": []
    },
    {
      "cell_type": "code",
      "metadata": {
        "colab": {
          "base_uri": "https://localhost:8080/"
        },
        "id": "spvl8ZWz7xnq",
        "outputId": "c5ba8868-31de-43e2-9c30-01cf68741ae1"
      },
      "source": [
        "tech_top10_city['City'].value_counts()"
      ],
      "execution_count": 169,
      "outputs": [
        {
          "output_type": "execute_result",
          "data": {
            "text/plain": [
              "NEW YORK          2737\n",
              "SAN FRANCISCO     2562\n",
              "MOUNTAIN VIEW      463\n",
              "SEATTLE            410\n",
              "REDWOOD CITY       386\n",
              "SUNNYVALE          339\n",
              "REDMOND            153\n",
              "MENLO PARK         147\n",
              "BELLEVUE           142\n",
              "REDWOOD SHORES      35\n",
              "Name: City, dtype: int64"
            ]
          },
          "metadata": {
            "tags": []
          },
          "execution_count": 169
        }
      ]
    },
    {
      "cell_type": "code",
      "metadata": {
        "id": "a91fZMYR70Ws"
      },
      "source": [
        "tech_top_employer = tech_top10_city.groupby('Employer')\n",
        "approval_by_employer = tech_top_employer['Overall Approval'].sum().sort_values(ascending=False).head(10).reset_index()"
      ],
      "execution_count": 174,
      "outputs": []
    },
    {
      "cell_type": "code",
      "metadata": {
        "colab": {
          "base_uri": "https://localhost:8080/",
          "height": 571
        },
        "id": "PxFN1FRn8RbJ",
        "outputId": "2bb310ec-ba64-4e0d-c7c9-cb3d8080005e"
      },
      "source": [
        "plt.figure(figsize=(12,6))\n",
        "\n",
        "ax = sns.barplot(data=approval_by_employer, x='Employer', y='Overall Approval')\n",
        "plt.xlabel('Company')\n",
        "plt.ylabel('Number of Approvals')\n",
        "plt.title('Number of H1BC approvals by Top 10 Companies in California, Washington and New York from 2011 - 2020')\n",
        "plt.xticks(rotation=90)"
      ],
      "execution_count": 175,
      "outputs": [
        {
          "output_type": "execute_result",
          "data": {
            "text/plain": [
              "(array([0, 1, 2, 3, 4, 5, 6, 7, 8, 9]),\n",
              " <a list of 10 Text major ticklabel objects>)"
            ]
          },
          "metadata": {
            "tags": []
          },
          "execution_count": 175
        },
        {
          "output_type": "display_data",
          "data": {
            "image/png": "[encoded data removed]",
            "text/plain": [
              "<Figure size 864x432 with 1 Axes>"
            ]
          },
          "metadata": {
            "tags": [],
            "needs_background": "light"
          }
        }
      ]
    },
    {
      "cell_type": "code",
      "metadata": {
        "colab": {
          "base_uri": "https://localhost:8080/",
          "height": 296
        },
        "id": "TRYEasTY8sf9",
        "outputId": "12a0a4dd-7f89-4dff-ccb0-aaa646a2636e"
      },
      "source": [
        "sns.scatterplot(data=tech, x='Fiscal Year', y='Overall Approval')"
      ],
      "execution_count": 180,
      "outputs": [
        {
          "output_type": "execute_result",
          "data": {
            "text/plain": [
              "<matplotlib.axes._subplots.AxesSubplot at 0x7f0a9d6b86d0>"
            ]
          },
          "metadata": {
            "tags": []
          },
          "execution_count": 180
        },
        {
          "output_type": "display_data",
          "data": {
            "image/png": "[encoded data removed]",
            "text/plain": [
              "<Figure size 432x288 with 1 Axes>"
            ]
          },
          "metadata": {
            "tags": [],
            "needs_background": "light"
          }
        }
      ]
    },
    {
      "cell_type": "code",
      "metadata": {
        "colab": {
          "base_uri": "https://localhost:8080/",
          "height": 385
        },
        "id": "eXxjavOw9f1b",
        "outputId": "993593dd-dfd2-4030-cc11-0c3ae2b79b2a"
      },
      "source": [
        "sns.scatterplot(data=tech_top10_city, x='City', y='Overall Approval', hue='Fiscal Year', palette='Blues')\n",
        "plt.xticks(rotation=90)"
      ],
      "execution_count": 186,
      "outputs": [
        {
          "output_type": "execute_result",
          "data": {
            "text/plain": [
              "([0, 1, 2, 3, 4, 5, 6, 7, 8, 9], <a list of 10 Text major ticklabel objects>)"
            ]
          },
          "metadata": {
            "tags": []
          },
          "execution_count": 186
        },
        {
          "output_type": "display_data",
          "data": {
            "image/png": "[encoded data removed]",
            "text/plain": [
              "<Figure size 432x288 with 1 Axes>"
            ]
          },
          "metadata": {
            "tags": [],
            "needs_background": "light"
          }
        }
      ]
    },
    {
      "cell_type": "code",
      "metadata": {
        "colab": {
          "base_uri": "https://localhost:8080/",
          "height": 203
        },
        "id": "TdCaY68eHof3",
        "outputId": "2ccfa047-b1ee-4042-d0d2-2f3a277f8d1c"
      },
      "source": [
        "top3_city = tech_top3_state[tech_top3_state['City'] == 'SAN FRANCISCO']\n",
        "top3_city1 = tech_top3_state[tech_top3_state['City'] == 'NEW YORK']\n",
        "top3_city2 = tech_top3_state[tech_top3_state['City'] == 'REDMOND']\n",
        "tech_top3_city = pd.concat([top3_city, top3_city1, top3_city2])\n",
        "tech_top3_city.head()"
      ],
      "execution_count": 212,
      "outputs": [
        {
          "output_type": "execute_result",
          "data": {
            "text/html": [
              "<div>\n",
              "<style scoped>\n",
              "    .dataframe tbody tr th:only-of-type {\n",
              "        vertical-align: middle;\n",
              "    }\n",
              "\n",
              "    .dataframe tbody tr th {\n",
              "        vertical-align: top;\n",
              "    }\n",
              "\n",
              "    .dataframe thead th {\n",
              "        text-align: right;\n",
              "    }\n",
              "</style>\n",
              "<table border=\"1\" class=\"dataframe\">\n",
              "  <thead>\n",
              "    <tr style=\"text-align: right;\">\n",
              "      <th></th>\n",
              "      <th>Fiscal Year</th>\n",
              "      <th>Employer</th>\n",
              "      <th>NAICS</th>\n",
              "      <th>State</th>\n",
              "      <th>City</th>\n",
              "      <th>ZIP</th>\n",
              "      <th>Overall Approval</th>\n",
              "    </tr>\n",
              "  </thead>\n",
              "  <tbody>\n",
              "    <tr>\n",
              "      <th>638</th>\n",
              "      <td>2014</td>\n",
              "      <td>OBSCURA DIGITAL INC</td>\n",
              "      <td>51</td>\n",
              "      <td>CA</td>\n",
              "      <td>SAN FRANCISCO</td>\n",
              "      <td>94107.0</td>\n",
              "      <td>1.0</td>\n",
              "    </tr>\n",
              "    <tr>\n",
              "      <th>750</th>\n",
              "      <td>2014</td>\n",
              "      <td>LOOKOUT INC</td>\n",
              "      <td>51</td>\n",
              "      <td>CA</td>\n",
              "      <td>SAN FRANCISCO</td>\n",
              "      <td>94111.0</td>\n",
              "      <td>7.0</td>\n",
              "    </tr>\n",
              "    <tr>\n",
              "      <th>898</th>\n",
              "      <td>2014</td>\n",
              "      <td>RIVERBED TECHNOLOGY INC</td>\n",
              "      <td>51</td>\n",
              "      <td>CA</td>\n",
              "      <td>SAN FRANCISCO</td>\n",
              "      <td>94105.0</td>\n",
              "      <td>55.0</td>\n",
              "    </tr>\n",
              "    <tr>\n",
              "      <th>900</th>\n",
              "      <td>2014</td>\n",
              "      <td>RIVERBED TECHNOLOGY INC</td>\n",
              "      <td>51</td>\n",
              "      <td>CA</td>\n",
              "      <td>SAN FRANCISCO</td>\n",
              "      <td>94107.0</td>\n",
              "      <td>23.0</td>\n",
              "    </tr>\n",
              "    <tr>\n",
              "      <th>2466</th>\n",
              "      <td>2014</td>\n",
              "      <td>PRACTICE FUSION INC</td>\n",
              "      <td>51</td>\n",
              "      <td>CA</td>\n",
              "      <td>SAN FRANCISCO</td>\n",
              "      <td>94102.0</td>\n",
              "      <td>7.0</td>\n",
              "    </tr>\n",
              "  </tbody>\n",
              "</table>\n",
              "</div>"
            ],
            "text/plain": [
              "      Fiscal Year                 Employer  ...      ZIP Overall Approval\n",
              "638          2014      OBSCURA DIGITAL INC  ...  94107.0              1.0\n",
              "750          2014              LOOKOUT INC  ...  94111.0              7.0\n",
              "898          2014  RIVERBED TECHNOLOGY INC  ...  94105.0             55.0\n",
              "900          2014  RIVERBED TECHNOLOGY INC  ...  94107.0             23.0\n",
              "2466         2014      PRACTICE FUSION INC  ...  94102.0              7.0\n",
              "\n",
              "[5 rows x 7 columns]"
            ]
          },
          "metadata": {
            "tags": []
          },
          "execution_count": 212
        }
      ]
    },
    {
      "cell_type": "code",
      "metadata": {
        "id": "Bo5EqqlNHocR"
      },
      "source": [
        "tech_top3_city_grouped = tech_top3_city.groupby('Fiscal Year')\n",
        "approval_by_top3_city = tech_top3_city_grouped['Overall Approval'].sum().sort_values(ascending=False).head(10).reset_index()"
      ],
      "execution_count": 244,
      "outputs": []
    },
    {
      "cell_type": "code",
      "metadata": {
        "colab": {
          "base_uri": "https://localhost:8080/",
          "height": 388
        },
        "id": "8m_ucjLf99vD",
        "outputId": "67242c7d-7221-493d-e854-80683bb37256"
      },
      "source": [
        "plt.figure(figsize=(10,6))\n",
        "ax = sns.barplot(data=approval_by_top3_city, x='Fiscal Year', y='Overall Approval', palette='Reds')\n",
        "# plt.ylim(0,20)\n"
      ],
      "execution_count": 260,
      "outputs": [
        {
          "output_type": "display_data",
          "data": {
            "image/png": "[encoded data removed]",
            "text/plain": [
              "<Figure size 720x432 with 1 Axes>"
            ]
          },
          "metadata": {
            "tags": [],
            "needs_background": "light"
          }
        }
      ]
    },
    {
      "cell_type": "code",
      "metadata": {
        "id": "00CijXviBSV_"
      },
      "source": [
        ""
      ],
      "execution_count": 211,
      "outputs": []
    },
    {
      "cell_type": "code",
      "metadata": {
        "id": "tNF6YKmbBjVS"
      },
      "source": [
        ""
      ],
      "execution_count": 211,
      "outputs": []
    },
    {
      "cell_type": "code",
      "metadata": {
        "id": "MfHJe6ggBp-s"
      },
      "source": [
        ""
      ],
      "execution_count": 211,
      "outputs": []
    },
    {
      "cell_type": "code",
      "metadata": {
        "id": "c0wqBdAMCJGM"
      },
      "source": [
        ""
      ],
      "execution_count": 211,
      "outputs": []
    },
    {
      "cell_type": "code",
      "metadata": {
        "id": "H0NSIsdTCQry"
      },
      "source": [
        ""
      ],
      "execution_count": 211,
      "outputs": []
    }
  ]
}